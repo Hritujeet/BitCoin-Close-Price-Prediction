{
 "cells": [
  {
   "cell_type": "code",
   "execution_count": 1,
   "id": "937d62f8-77d6-489e-84a4-3ab0f30ffd3a",
   "metadata": {},
   "outputs": [],
   "source": [
    "import pandas as pd\n",
    "import numpy as np"
   ]
  },
  {
   "cell_type": "code",
   "execution_count": 2,
   "id": "804324dd-4ee8-4b4c-959c-6f3911ab0e4a",
   "metadata": {},
   "outputs": [],
   "source": [
    "df = pd.read_csv('bitcoin.csv')"
   ]
  },
  {
   "cell_type": "code",
   "execution_count": 3,
   "id": "0da14bc8-cb5b-4468-8ed9-e151facccb1f",
   "metadata": {},
   "outputs": [
    {
     "data": {
      "text/html": [
       "<div>\n",
       "<style scoped>\n",
       "    .dataframe tbody tr th:only-of-type {\n",
       "        vertical-align: middle;\n",
       "    }\n",
       "\n",
       "    .dataframe tbody tr th {\n",
       "        vertical-align: top;\n",
       "    }\n",
       "\n",
       "    .dataframe thead th {\n",
       "        text-align: right;\n",
       "    }\n",
       "</style>\n",
       "<table border=\"1\" class=\"dataframe\">\n",
       "  <thead>\n",
       "    <tr style=\"text-align: right;\">\n",
       "      <th></th>\n",
       "      <th>Date</th>\n",
       "      <th>High</th>\n",
       "      <th>Low</th>\n",
       "      <th>Open</th>\n",
       "      <th>Close</th>\n",
       "      <th>Volume</th>\n",
       "      <th>Marketcap</th>\n",
       "    </tr>\n",
       "  </thead>\n",
       "  <tbody>\n",
       "    <tr>\n",
       "      <th>0</th>\n",
       "      <td>09-10-2018 23:59</td>\n",
       "      <td>1.008330</td>\n",
       "      <td>1.000030</td>\n",
       "      <td>1.004270</td>\n",
       "      <td>1.006860</td>\n",
       "      <td>1.088030e+05</td>\n",
       "      <td>2.432332e+07</td>\n",
       "    </tr>\n",
       "    <tr>\n",
       "      <th>1</th>\n",
       "      <td>10-10-2018 23:59</td>\n",
       "      <td>1.019080</td>\n",
       "      <td>1.003970</td>\n",
       "      <td>1.004940</td>\n",
       "      <td>1.009620</td>\n",
       "      <td>7.117830e+05</td>\n",
       "      <td>2.432332e+07</td>\n",
       "    </tr>\n",
       "    <tr>\n",
       "      <th>2</th>\n",
       "      <td>11-10-2018 23:59</td>\n",
       "      <td>1.031230</td>\n",
       "      <td>1.001730</td>\n",
       "      <td>1.009940</td>\n",
       "      <td>1.009780</td>\n",
       "      <td>4.177290e+06</td>\n",
       "      <td>2.432332e+07</td>\n",
       "    </tr>\n",
       "    <tr>\n",
       "      <th>3</th>\n",
       "      <td>12-10-2018 23:59</td>\n",
       "      <td>1.018710</td>\n",
       "      <td>1.001140</td>\n",
       "      <td>1.008610</td>\n",
       "      <td>1.012720</td>\n",
       "      <td>1.322240e+06</td>\n",
       "      <td>2.432332e+07</td>\n",
       "    </tr>\n",
       "    <tr>\n",
       "      <th>4</th>\n",
       "      <td>13-10-2018 23:59</td>\n",
       "      <td>1.020290</td>\n",
       "      <td>1.003550</td>\n",
       "      <td>1.014450</td>\n",
       "      <td>1.007430</td>\n",
       "      <td>6.985070e+05</td>\n",
       "      <td>2.432332e+07</td>\n",
       "    </tr>\n",
       "    <tr>\n",
       "      <th>...</th>\n",
       "      <td>...</td>\n",
       "      <td>...</td>\n",
       "      <td>...</td>\n",
       "      <td>...</td>\n",
       "      <td>...</td>\n",
       "      <td>...</td>\n",
       "      <td>...</td>\n",
       "    </tr>\n",
       "    <tr>\n",
       "      <th>997</th>\n",
       "      <td>02-07-2021 23:59</td>\n",
       "      <td>1.000916</td>\n",
       "      <td>0.999966</td>\n",
       "      <td>1.000177</td>\n",
       "      <td>1.000035</td>\n",
       "      <td>1.787896e+09</td>\n",
       "      <td>2.539775e+10</td>\n",
       "    </tr>\n",
       "    <tr>\n",
       "      <th>998</th>\n",
       "      <td>03-07-2021 23:59</td>\n",
       "      <td>1.000670</td>\n",
       "      <td>0.999925</td>\n",
       "      <td>1.000048</td>\n",
       "      <td>0.999984</td>\n",
       "      <td>1.491017e+09</td>\n",
       "      <td>2.550437e+10</td>\n",
       "    </tr>\n",
       "    <tr>\n",
       "      <th>999</th>\n",
       "      <td>04-07-2021 23:59</td>\n",
       "      <td>1.000187</td>\n",
       "      <td>0.998901</td>\n",
       "      <td>0.999956</td>\n",
       "      <td>0.999500</td>\n",
       "      <td>1.578667e+09</td>\n",
       "      <td>2.551172e+10</td>\n",
       "    </tr>\n",
       "    <tr>\n",
       "      <th>1000</th>\n",
       "      <td>05-07-2021 23:59</td>\n",
       "      <td>1.000839</td>\n",
       "      <td>0.999459</td>\n",
       "      <td>0.999565</td>\n",
       "      <td>1.000528</td>\n",
       "      <td>1.887496e+09</td>\n",
       "      <td>2.554724e+10</td>\n",
       "    </tr>\n",
       "    <tr>\n",
       "      <th>1001</th>\n",
       "      <td>06-07-2021 23:59</td>\n",
       "      <td>1.000731</td>\n",
       "      <td>0.999662</td>\n",
       "      <td>1.000501</td>\n",
       "      <td>1.000059</td>\n",
       "      <td>2.312602e+09</td>\n",
       "      <td>2.567322e+10</td>\n",
       "    </tr>\n",
       "  </tbody>\n",
       "</table>\n",
       "<p>1002 rows × 7 columns</p>\n",
       "</div>"
      ],
      "text/plain": [
       "                  Date      High       Low      Open     Close        Volume  \\\n",
       "0     09-10-2018 23:59  1.008330  1.000030  1.004270  1.006860  1.088030e+05   \n",
       "1     10-10-2018 23:59  1.019080  1.003970  1.004940  1.009620  7.117830e+05   \n",
       "2     11-10-2018 23:59  1.031230  1.001730  1.009940  1.009780  4.177290e+06   \n",
       "3     12-10-2018 23:59  1.018710  1.001140  1.008610  1.012720  1.322240e+06   \n",
       "4     13-10-2018 23:59  1.020290  1.003550  1.014450  1.007430  6.985070e+05   \n",
       "...                ...       ...       ...       ...       ...           ...   \n",
       "997   02-07-2021 23:59  1.000916  0.999966  1.000177  1.000035  1.787896e+09   \n",
       "998   03-07-2021 23:59  1.000670  0.999925  1.000048  0.999984  1.491017e+09   \n",
       "999   04-07-2021 23:59  1.000187  0.998901  0.999956  0.999500  1.578667e+09   \n",
       "1000  05-07-2021 23:59  1.000839  0.999459  0.999565  1.000528  1.887496e+09   \n",
       "1001  06-07-2021 23:59  1.000731  0.999662  1.000501  1.000059  2.312602e+09   \n",
       "\n",
       "         Marketcap  \n",
       "0     2.432332e+07  \n",
       "1     2.432332e+07  \n",
       "2     2.432332e+07  \n",
       "3     2.432332e+07  \n",
       "4     2.432332e+07  \n",
       "...            ...  \n",
       "997   2.539775e+10  \n",
       "998   2.550437e+10  \n",
       "999   2.551172e+10  \n",
       "1000  2.554724e+10  \n",
       "1001  2.567322e+10  \n",
       "\n",
       "[1002 rows x 7 columns]"
      ]
     },
     "execution_count": 3,
     "metadata": {},
     "output_type": "execute_result"
    }
   ],
   "source": [
    "df"
   ]
  },
  {
   "cell_type": "code",
   "execution_count": 4,
   "id": "a00940fb-3fb1-4d7a-9172-c8c188277d20",
   "metadata": {},
   "outputs": [
    {
     "data": {
      "text/html": [
       "<div>\n",
       "<style scoped>\n",
       "    .dataframe tbody tr th:only-of-type {\n",
       "        vertical-align: middle;\n",
       "    }\n",
       "\n",
       "    .dataframe tbody tr th {\n",
       "        vertical-align: top;\n",
       "    }\n",
       "\n",
       "    .dataframe thead th {\n",
       "        text-align: right;\n",
       "    }\n",
       "</style>\n",
       "<table border=\"1\" class=\"dataframe\">\n",
       "  <thead>\n",
       "    <tr style=\"text-align: right;\">\n",
       "      <th></th>\n",
       "      <th>Date</th>\n",
       "      <th>High</th>\n",
       "      <th>Low</th>\n",
       "      <th>Open</th>\n",
       "      <th>Close</th>\n",
       "      <th>Volume</th>\n",
       "      <th>Marketcap</th>\n",
       "    </tr>\n",
       "  </thead>\n",
       "  <tbody>\n",
       "    <tr>\n",
       "      <th>0</th>\n",
       "      <td>09-10-2018 23:59</td>\n",
       "      <td>1.00833</td>\n",
       "      <td>1.00003</td>\n",
       "      <td>1.00427</td>\n",
       "      <td>1.00686</td>\n",
       "      <td>108803.0</td>\n",
       "      <td>24323316.23</td>\n",
       "    </tr>\n",
       "    <tr>\n",
       "      <th>1</th>\n",
       "      <td>10-10-2018 23:59</td>\n",
       "      <td>1.01908</td>\n",
       "      <td>1.00397</td>\n",
       "      <td>1.00494</td>\n",
       "      <td>1.00962</td>\n",
       "      <td>711783.0</td>\n",
       "      <td>24323316.23</td>\n",
       "    </tr>\n",
       "    <tr>\n",
       "      <th>2</th>\n",
       "      <td>11-10-2018 23:59</td>\n",
       "      <td>1.03123</td>\n",
       "      <td>1.00173</td>\n",
       "      <td>1.00994</td>\n",
       "      <td>1.00978</td>\n",
       "      <td>4177290.0</td>\n",
       "      <td>24323316.23</td>\n",
       "    </tr>\n",
       "    <tr>\n",
       "      <th>3</th>\n",
       "      <td>12-10-2018 23:59</td>\n",
       "      <td>1.01871</td>\n",
       "      <td>1.00114</td>\n",
       "      <td>1.00861</td>\n",
       "      <td>1.01272</td>\n",
       "      <td>1322240.0</td>\n",
       "      <td>24323316.23</td>\n",
       "    </tr>\n",
       "    <tr>\n",
       "      <th>4</th>\n",
       "      <td>13-10-2018 23:59</td>\n",
       "      <td>1.02029</td>\n",
       "      <td>1.00355</td>\n",
       "      <td>1.01445</td>\n",
       "      <td>1.00743</td>\n",
       "      <td>698507.0</td>\n",
       "      <td>24323316.23</td>\n",
       "    </tr>\n",
       "  </tbody>\n",
       "</table>\n",
       "</div>"
      ],
      "text/plain": [
       "               Date     High      Low     Open    Close     Volume  \\\n",
       "0  09-10-2018 23:59  1.00833  1.00003  1.00427  1.00686   108803.0   \n",
       "1  10-10-2018 23:59  1.01908  1.00397  1.00494  1.00962   711783.0   \n",
       "2  11-10-2018 23:59  1.03123  1.00173  1.00994  1.00978  4177290.0   \n",
       "3  12-10-2018 23:59  1.01871  1.00114  1.00861  1.01272  1322240.0   \n",
       "4  13-10-2018 23:59  1.02029  1.00355  1.01445  1.00743   698507.0   \n",
       "\n",
       "     Marketcap  \n",
       "0  24323316.23  \n",
       "1  24323316.23  \n",
       "2  24323316.23  \n",
       "3  24323316.23  \n",
       "4  24323316.23  "
      ]
     },
     "execution_count": 4,
     "metadata": {},
     "output_type": "execute_result"
    }
   ],
   "source": [
    "df.head()"
   ]
  },
  {
   "cell_type": "code",
   "execution_count": 5,
   "id": "f9ba7c2a-1819-410b-96c1-201fbdbefb7e",
   "metadata": {},
   "outputs": [
    {
     "data": {
      "text/html": [
       "<div>\n",
       "<style scoped>\n",
       "    .dataframe tbody tr th:only-of-type {\n",
       "        vertical-align: middle;\n",
       "    }\n",
       "\n",
       "    .dataframe tbody tr th {\n",
       "        vertical-align: top;\n",
       "    }\n",
       "\n",
       "    .dataframe thead th {\n",
       "        text-align: right;\n",
       "    }\n",
       "</style>\n",
       "<table border=\"1\" class=\"dataframe\">\n",
       "  <thead>\n",
       "    <tr style=\"text-align: right;\">\n",
       "      <th></th>\n",
       "      <th>Date</th>\n",
       "      <th>High</th>\n",
       "      <th>Low</th>\n",
       "      <th>Open</th>\n",
       "      <th>Close</th>\n",
       "      <th>Volume</th>\n",
       "      <th>Marketcap</th>\n",
       "    </tr>\n",
       "  </thead>\n",
       "  <tbody>\n",
       "    <tr>\n",
       "      <th>997</th>\n",
       "      <td>02-07-2021 23:59</td>\n",
       "      <td>1.000916</td>\n",
       "      <td>0.999966</td>\n",
       "      <td>1.000177</td>\n",
       "      <td>1.000035</td>\n",
       "      <td>1.787896e+09</td>\n",
       "      <td>2.539775e+10</td>\n",
       "    </tr>\n",
       "    <tr>\n",
       "      <th>998</th>\n",
       "      <td>03-07-2021 23:59</td>\n",
       "      <td>1.000670</td>\n",
       "      <td>0.999925</td>\n",
       "      <td>1.000048</td>\n",
       "      <td>0.999984</td>\n",
       "      <td>1.491017e+09</td>\n",
       "      <td>2.550437e+10</td>\n",
       "    </tr>\n",
       "    <tr>\n",
       "      <th>999</th>\n",
       "      <td>04-07-2021 23:59</td>\n",
       "      <td>1.000187</td>\n",
       "      <td>0.998901</td>\n",
       "      <td>0.999956</td>\n",
       "      <td>0.999500</td>\n",
       "      <td>1.578667e+09</td>\n",
       "      <td>2.551172e+10</td>\n",
       "    </tr>\n",
       "    <tr>\n",
       "      <th>1000</th>\n",
       "      <td>05-07-2021 23:59</td>\n",
       "      <td>1.000839</td>\n",
       "      <td>0.999459</td>\n",
       "      <td>0.999565</td>\n",
       "      <td>1.000528</td>\n",
       "      <td>1.887496e+09</td>\n",
       "      <td>2.554724e+10</td>\n",
       "    </tr>\n",
       "    <tr>\n",
       "      <th>1001</th>\n",
       "      <td>06-07-2021 23:59</td>\n",
       "      <td>1.000731</td>\n",
       "      <td>0.999662</td>\n",
       "      <td>1.000501</td>\n",
       "      <td>1.000059</td>\n",
       "      <td>2.312602e+09</td>\n",
       "      <td>2.567322e+10</td>\n",
       "    </tr>\n",
       "  </tbody>\n",
       "</table>\n",
       "</div>"
      ],
      "text/plain": [
       "                  Date      High       Low      Open     Close        Volume  \\\n",
       "997   02-07-2021 23:59  1.000916  0.999966  1.000177  1.000035  1.787896e+09   \n",
       "998   03-07-2021 23:59  1.000670  0.999925  1.000048  0.999984  1.491017e+09   \n",
       "999   04-07-2021 23:59  1.000187  0.998901  0.999956  0.999500  1.578667e+09   \n",
       "1000  05-07-2021 23:59  1.000839  0.999459  0.999565  1.000528  1.887496e+09   \n",
       "1001  06-07-2021 23:59  1.000731  0.999662  1.000501  1.000059  2.312602e+09   \n",
       "\n",
       "         Marketcap  \n",
       "997   2.539775e+10  \n",
       "998   2.550437e+10  \n",
       "999   2.551172e+10  \n",
       "1000  2.554724e+10  \n",
       "1001  2.567322e+10  "
      ]
     },
     "execution_count": 5,
     "metadata": {},
     "output_type": "execute_result"
    }
   ],
   "source": [
    "df.tail()"
   ]
  },
  {
   "cell_type": "markdown",
   "id": "a6d36668-3a55-40f5-bc0d-5d593202f05c",
   "metadata": {},
   "source": [
    "## Fixing Garbage Values"
   ]
  },
  {
   "cell_type": "code",
   "execution_count": 6,
   "id": "f0ff6763-1502-47ff-badb-a88202dd2756",
   "metadata": {},
   "outputs": [],
   "source": [
    "df['Volume'] = df['Volume'].astype('int64')"
   ]
  },
  {
   "cell_type": "code",
   "execution_count": 7,
   "id": "bfb120d3-1196-4beb-bddc-f93b953746b7",
   "metadata": {},
   "outputs": [],
   "source": [
    "df['Marketcap'] = df['Marketcap'].astype('int64')"
   ]
  },
  {
   "cell_type": "code",
   "execution_count": 8,
   "id": "ba6aa403-f387-445b-a244-cd03edab90e5",
   "metadata": {},
   "outputs": [
    {
     "data": {
      "text/html": [
       "<div>\n",
       "<style scoped>\n",
       "    .dataframe tbody tr th:only-of-type {\n",
       "        vertical-align: middle;\n",
       "    }\n",
       "\n",
       "    .dataframe tbody tr th {\n",
       "        vertical-align: top;\n",
       "    }\n",
       "\n",
       "    .dataframe thead th {\n",
       "        text-align: right;\n",
       "    }\n",
       "</style>\n",
       "<table border=\"1\" class=\"dataframe\">\n",
       "  <thead>\n",
       "    <tr style=\"text-align: right;\">\n",
       "      <th></th>\n",
       "      <th>Date</th>\n",
       "      <th>High</th>\n",
       "      <th>Low</th>\n",
       "      <th>Open</th>\n",
       "      <th>Close</th>\n",
       "      <th>Volume</th>\n",
       "      <th>Marketcap</th>\n",
       "    </tr>\n",
       "  </thead>\n",
       "  <tbody>\n",
       "    <tr>\n",
       "      <th>997</th>\n",
       "      <td>02-07-2021 23:59</td>\n",
       "      <td>1.000916</td>\n",
       "      <td>0.999966</td>\n",
       "      <td>1.000177</td>\n",
       "      <td>1.000035</td>\n",
       "      <td>1787895570</td>\n",
       "      <td>25397754841</td>\n",
       "    </tr>\n",
       "    <tr>\n",
       "      <th>998</th>\n",
       "      <td>03-07-2021 23:59</td>\n",
       "      <td>1.000670</td>\n",
       "      <td>0.999925</td>\n",
       "      <td>1.000048</td>\n",
       "      <td>0.999984</td>\n",
       "      <td>1491016821</td>\n",
       "      <td>25504372339</td>\n",
       "    </tr>\n",
       "    <tr>\n",
       "      <th>999</th>\n",
       "      <td>04-07-2021 23:59</td>\n",
       "      <td>1.000187</td>\n",
       "      <td>0.998901</td>\n",
       "      <td>0.999956</td>\n",
       "      <td>0.999500</td>\n",
       "      <td>1578667344</td>\n",
       "      <td>25511718609</td>\n",
       "    </tr>\n",
       "    <tr>\n",
       "      <th>1000</th>\n",
       "      <td>05-07-2021 23:59</td>\n",
       "      <td>1.000839</td>\n",
       "      <td>0.999459</td>\n",
       "      <td>0.999565</td>\n",
       "      <td>1.000528</td>\n",
       "      <td>1887495558</td>\n",
       "      <td>25547238480</td>\n",
       "    </tr>\n",
       "    <tr>\n",
       "      <th>1001</th>\n",
       "      <td>06-07-2021 23:59</td>\n",
       "      <td>1.000731</td>\n",
       "      <td>0.999662</td>\n",
       "      <td>1.000501</td>\n",
       "      <td>1.000059</td>\n",
       "      <td>2312601910</td>\n",
       "      <td>25673216976</td>\n",
       "    </tr>\n",
       "  </tbody>\n",
       "</table>\n",
       "</div>"
      ],
      "text/plain": [
       "                  Date      High       Low      Open     Close      Volume  \\\n",
       "997   02-07-2021 23:59  1.000916  0.999966  1.000177  1.000035  1787895570   \n",
       "998   03-07-2021 23:59  1.000670  0.999925  1.000048  0.999984  1491016821   \n",
       "999   04-07-2021 23:59  1.000187  0.998901  0.999956  0.999500  1578667344   \n",
       "1000  05-07-2021 23:59  1.000839  0.999459  0.999565  1.000528  1887495558   \n",
       "1001  06-07-2021 23:59  1.000731  0.999662  1.000501  1.000059  2312601910   \n",
       "\n",
       "        Marketcap  \n",
       "997   25397754841  \n",
       "998   25504372339  \n",
       "999   25511718609  \n",
       "1000  25547238480  \n",
       "1001  25673216976  "
      ]
     },
     "execution_count": 8,
     "metadata": {},
     "output_type": "execute_result"
    }
   ],
   "source": [
    "df.tail()"
   ]
  },
  {
   "cell_type": "markdown",
   "id": "57cc858a-1878-4212-9099-51cc4e1462ad",
   "metadata": {},
   "source": [
    "# Analysing Data"
   ]
  },
  {
   "cell_type": "code",
   "execution_count": 9,
   "id": "402958e0-ddd5-4897-9c24-7bf4967613e1",
   "metadata": {},
   "outputs": [
    {
     "data": {
      "text/html": [
       "<div>\n",
       "<style scoped>\n",
       "    .dataframe tbody tr th:only-of-type {\n",
       "        vertical-align: middle;\n",
       "    }\n",
       "\n",
       "    .dataframe tbody tr th {\n",
       "        vertical-align: top;\n",
       "    }\n",
       "\n",
       "    .dataframe thead th {\n",
       "        text-align: right;\n",
       "    }\n",
       "</style>\n",
       "<table border=\"1\" class=\"dataframe\">\n",
       "  <thead>\n",
       "    <tr style=\"text-align: right;\">\n",
       "      <th></th>\n",
       "      <th>High</th>\n",
       "      <th>Low</th>\n",
       "      <th>Open</th>\n",
       "      <th>Close</th>\n",
       "      <th>Volume</th>\n",
       "      <th>Marketcap</th>\n",
       "    </tr>\n",
       "  </thead>\n",
       "  <tbody>\n",
       "    <tr>\n",
       "      <th>count</th>\n",
       "      <td>1002.000000</td>\n",
       "      <td>1002.000000</td>\n",
       "      <td>1002.000000</td>\n",
       "      <td>1002.000000</td>\n",
       "      <td>1.002000e+03</td>\n",
       "      <td>1.002000e+03</td>\n",
       "    </tr>\n",
       "    <tr>\n",
       "      <th>mean</th>\n",
       "      <td>1.010327</td>\n",
       "      <td>0.998496</td>\n",
       "      <td>1.003767</td>\n",
       "      <td>1.003791</td>\n",
       "      <td>6.513472e+08</td>\n",
       "      <td>3.029891e+09</td>\n",
       "    </tr>\n",
       "    <tr>\n",
       "      <th>std</th>\n",
       "      <td>0.011015</td>\n",
       "      <td>0.007548</td>\n",
       "      <td>0.006843</td>\n",
       "      <td>0.006822</td>\n",
       "      <td>8.595553e+08</td>\n",
       "      <td>5.541393e+09</td>\n",
       "    </tr>\n",
       "    <tr>\n",
       "      <th>min</th>\n",
       "      <td>1.000082</td>\n",
       "      <td>0.929222</td>\n",
       "      <td>0.967938</td>\n",
       "      <td>0.970124</td>\n",
       "      <td>1.088030e+05</td>\n",
       "      <td>2.399490e+07</td>\n",
       "    </tr>\n",
       "    <tr>\n",
       "      <th>25%</th>\n",
       "      <td>1.001768</td>\n",
       "      <td>0.996038</td>\n",
       "      <td>1.000019</td>\n",
       "      <td>1.000017</td>\n",
       "      <td>1.058256e+08</td>\n",
       "      <td>3.592595e+08</td>\n",
       "    </tr>\n",
       "    <tr>\n",
       "      <th>50%</th>\n",
       "      <td>1.007303</td>\n",
       "      <td>0.999263</td>\n",
       "      <td>1.001087</td>\n",
       "      <td>1.001152</td>\n",
       "      <td>3.178717e+08</td>\n",
       "      <td>4.838460e+08</td>\n",
       "    </tr>\n",
       "    <tr>\n",
       "      <th>75%</th>\n",
       "      <td>1.015262</td>\n",
       "      <td>1.000149</td>\n",
       "      <td>1.005420</td>\n",
       "      <td>1.005395</td>\n",
       "      <td>7.773591e+08</td>\n",
       "      <td>2.807820e+09</td>\n",
       "    </tr>\n",
       "    <tr>\n",
       "      <th>max</th>\n",
       "      <td>1.113730</td>\n",
       "      <td>1.023058</td>\n",
       "      <td>1.043627</td>\n",
       "      <td>1.044029</td>\n",
       "      <td>8.053431e+09</td>\n",
       "      <td>2.579198e+10</td>\n",
       "    </tr>\n",
       "  </tbody>\n",
       "</table>\n",
       "</div>"
      ],
      "text/plain": [
       "              High          Low         Open        Close        Volume  \\\n",
       "count  1002.000000  1002.000000  1002.000000  1002.000000  1.002000e+03   \n",
       "mean      1.010327     0.998496     1.003767     1.003791  6.513472e+08   \n",
       "std       0.011015     0.007548     0.006843     0.006822  8.595553e+08   \n",
       "min       1.000082     0.929222     0.967938     0.970124  1.088030e+05   \n",
       "25%       1.001768     0.996038     1.000019     1.000017  1.058256e+08   \n",
       "50%       1.007303     0.999263     1.001087     1.001152  3.178717e+08   \n",
       "75%       1.015262     1.000149     1.005420     1.005395  7.773591e+08   \n",
       "max       1.113730     1.023058     1.043627     1.044029  8.053431e+09   \n",
       "\n",
       "          Marketcap  \n",
       "count  1.002000e+03  \n",
       "mean   3.029891e+09  \n",
       "std    5.541393e+09  \n",
       "min    2.399490e+07  \n",
       "25%    3.592595e+08  \n",
       "50%    4.838460e+08  \n",
       "75%    2.807820e+09  \n",
       "max    2.579198e+10  "
      ]
     },
     "execution_count": 9,
     "metadata": {},
     "output_type": "execute_result"
    }
   ],
   "source": [
    "df.describe()"
   ]
  },
  {
   "cell_type": "code",
   "execution_count": 10,
   "id": "3f111b0d-0a52-43c2-afe4-00495a3b0386",
   "metadata": {},
   "outputs": [
    {
     "data": {
      "text/plain": [
       "count          1002\n",
       "mean      651347220\n",
       "std       859555326\n",
       "min          108803\n",
       "25%       105825590\n",
       "50%       317871672\n",
       "75%       777359133\n",
       "max      8053431253\n",
       "Name: Volume, dtype: int64"
      ]
     },
     "execution_count": 10,
     "metadata": {},
     "output_type": "execute_result"
    }
   ],
   "source": [
    "df.describe()['Volume'].astype('int64')"
   ]
  },
  {
   "cell_type": "code",
   "execution_count": 11,
   "id": "3eb95366-9bd7-4b8f-9520-2e11e9504a9a",
   "metadata": {},
   "outputs": [
    {
     "data": {
      "text/plain": [
       "count           1002\n",
       "mean      3029891038\n",
       "std       5541393408\n",
       "min         23994903\n",
       "25%        359259507\n",
       "50%        483846022\n",
       "75%       2807819535\n",
       "max      25791977537\n",
       "Name: Marketcap, dtype: int64"
      ]
     },
     "execution_count": 11,
     "metadata": {},
     "output_type": "execute_result"
    }
   ],
   "source": [
    "df.describe()['Marketcap'].astype('int64')"
   ]
  },
  {
   "cell_type": "code",
   "execution_count": 12,
   "id": "aa96248d-ad52-438b-a57e-265c4759e59c",
   "metadata": {},
   "outputs": [
    {
     "name": "stdout",
     "output_type": "stream",
     "text": [
      "<class 'pandas.core.frame.DataFrame'>\n",
      "RangeIndex: 1002 entries, 0 to 1001\n",
      "Data columns (total 7 columns):\n",
      " #   Column     Non-Null Count  Dtype  \n",
      "---  ------     --------------  -----  \n",
      " 0   Date       1002 non-null   object \n",
      " 1   High       1002 non-null   float64\n",
      " 2   Low        1002 non-null   float64\n",
      " 3   Open       1002 non-null   float64\n",
      " 4   Close      1002 non-null   float64\n",
      " 5   Volume     1002 non-null   int64  \n",
      " 6   Marketcap  1002 non-null   int64  \n",
      "dtypes: float64(4), int64(2), object(1)\n",
      "memory usage: 54.9+ KB\n"
     ]
    }
   ],
   "source": [
    "df.info()"
   ]
  },
  {
   "cell_type": "markdown",
   "id": "015a29a0-bb13-4f4f-907d-347888f444b0",
   "metadata": {},
   "source": [
    "### Getting Year From Dates "
   ]
  },
  {
   "cell_type": "code",
   "execution_count": 13,
   "id": "828d2acd-a8a1-468e-9a8b-f5f21ec464b9",
   "metadata": {},
   "outputs": [],
   "source": [
    "dates = df['Date']"
   ]
  },
  {
   "cell_type": "code",
   "execution_count": 14,
   "id": "ce240023-5074-4070-982a-89b3db194776",
   "metadata": {},
   "outputs": [],
   "source": [
    "df['Date'] = pd.DatetimeIndex(dates).year"
   ]
  },
  {
   "cell_type": "code",
   "execution_count": 15,
   "id": "ae9f7d5f-cef6-4e36-bcac-292a81087055",
   "metadata": {},
   "outputs": [
    {
     "data": {
      "text/html": [
       "<div>\n",
       "<style scoped>\n",
       "    .dataframe tbody tr th:only-of-type {\n",
       "        vertical-align: middle;\n",
       "    }\n",
       "\n",
       "    .dataframe tbody tr th {\n",
       "        vertical-align: top;\n",
       "    }\n",
       "\n",
       "    .dataframe thead th {\n",
       "        text-align: right;\n",
       "    }\n",
       "</style>\n",
       "<table border=\"1\" class=\"dataframe\">\n",
       "  <thead>\n",
       "    <tr style=\"text-align: right;\">\n",
       "      <th></th>\n",
       "      <th>Date</th>\n",
       "      <th>High</th>\n",
       "      <th>Low</th>\n",
       "      <th>Open</th>\n",
       "      <th>Close</th>\n",
       "      <th>Volume</th>\n",
       "      <th>Marketcap</th>\n",
       "    </tr>\n",
       "  </thead>\n",
       "  <tbody>\n",
       "    <tr>\n",
       "      <th>0</th>\n",
       "      <td>2018</td>\n",
       "      <td>1.00833</td>\n",
       "      <td>1.00003</td>\n",
       "      <td>1.00427</td>\n",
       "      <td>1.00686</td>\n",
       "      <td>108803</td>\n",
       "      <td>24323316</td>\n",
       "    </tr>\n",
       "    <tr>\n",
       "      <th>1</th>\n",
       "      <td>2018</td>\n",
       "      <td>1.01908</td>\n",
       "      <td>1.00397</td>\n",
       "      <td>1.00494</td>\n",
       "      <td>1.00962</td>\n",
       "      <td>711783</td>\n",
       "      <td>24323316</td>\n",
       "    </tr>\n",
       "    <tr>\n",
       "      <th>2</th>\n",
       "      <td>2018</td>\n",
       "      <td>1.03123</td>\n",
       "      <td>1.00173</td>\n",
       "      <td>1.00994</td>\n",
       "      <td>1.00978</td>\n",
       "      <td>4177290</td>\n",
       "      <td>24323316</td>\n",
       "    </tr>\n",
       "    <tr>\n",
       "      <th>3</th>\n",
       "      <td>2018</td>\n",
       "      <td>1.01871</td>\n",
       "      <td>1.00114</td>\n",
       "      <td>1.00861</td>\n",
       "      <td>1.01272</td>\n",
       "      <td>1322240</td>\n",
       "      <td>24323316</td>\n",
       "    </tr>\n",
       "    <tr>\n",
       "      <th>4</th>\n",
       "      <td>2018</td>\n",
       "      <td>1.02029</td>\n",
       "      <td>1.00355</td>\n",
       "      <td>1.01445</td>\n",
       "      <td>1.00743</td>\n",
       "      <td>698507</td>\n",
       "      <td>24323316</td>\n",
       "    </tr>\n",
       "  </tbody>\n",
       "</table>\n",
       "</div>"
      ],
      "text/plain": [
       "   Date     High      Low     Open    Close   Volume  Marketcap\n",
       "0  2018  1.00833  1.00003  1.00427  1.00686   108803   24323316\n",
       "1  2018  1.01908  1.00397  1.00494  1.00962   711783   24323316\n",
       "2  2018  1.03123  1.00173  1.00994  1.00978  4177290   24323316\n",
       "3  2018  1.01871  1.00114  1.00861  1.01272  1322240   24323316\n",
       "4  2018  1.02029  1.00355  1.01445  1.00743   698507   24323316"
      ]
     },
     "execution_count": 15,
     "metadata": {},
     "output_type": "execute_result"
    }
   ],
   "source": [
    "df.head()"
   ]
  },
  {
   "cell_type": "code",
   "execution_count": 16,
   "id": "0a10ffa8-d09a-45d0-a7ea-d80db8711810",
   "metadata": {},
   "outputs": [],
   "source": [
    "import datetime\n",
    "df['Date'] = pd.DatetimeIndex(pd.to_datetime(dates.astype('str'), format=\"mixed\")).year"
   ]
  },
  {
   "cell_type": "code",
   "execution_count": 17,
   "id": "27e9d85d-3803-41ae-b5e2-4e92d301c6fa",
   "metadata": {},
   "outputs": [
    {
     "name": "stdout",
     "output_type": "stream",
     "text": [
      "0       2018\n",
      "1       2018\n",
      "2       2018\n",
      "3       2018\n",
      "4       2018\n",
      "        ... \n",
      "997     2021\n",
      "998     2021\n",
      "999     2021\n",
      "1000    2021\n",
      "1001    2021\n",
      "Name: Date, Length: 1002, dtype: int32\n"
     ]
    }
   ],
   "source": [
    "dates = df['Date']\n",
    "print(dates)"
   ]
  },
  {
   "cell_type": "code",
   "execution_count": 18,
   "id": "9a37add6-37f1-49cb-ae79-34a29ea06c16",
   "metadata": {},
   "outputs": [],
   "source": [
    "marketcap = df['Marketcap'].to_numpy()"
   ]
  },
  {
   "cell_type": "code",
   "execution_count": 19,
   "id": "baa51a66-b779-4d33-8129-ca625887ff0f",
   "metadata": {},
   "outputs": [
    {
     "data": {
      "text/plain": [
       "array([   24323316,    24323316,    24323316, ..., 25511718609,\n",
       "       25547238480, 25673216976], dtype=int64)"
      ]
     },
     "execution_count": 19,
     "metadata": {},
     "output_type": "execute_result"
    }
   ],
   "source": [
    "marketcap"
   ]
  },
  {
   "cell_type": "markdown",
   "id": "e4ad4dbc-c893-4c27-a255-518b5f314aa1",
   "metadata": {},
   "source": [
    "## Visualizing Data"
   ]
  },
  {
   "cell_type": "code",
   "execution_count": 20,
   "id": "725c25fd-68f4-4c96-ba25-28130d477592",
   "metadata": {},
   "outputs": [],
   "source": [
    "%matplotlib inline\n",
    "from matplotlib import pyplot as plt"
   ]
  },
  {
   "cell_type": "code",
   "execution_count": 21,
   "id": "177fad2f-f4db-4be6-b7c8-e925896a8e8d",
   "metadata": {},
   "outputs": [
    {
     "data": {
      "image/png": "[encoded data removed]",
      "text/plain": [
       "<Figure size 640x480 with 1 Axes>"
      ]
     },
     "metadata": {},
     "output_type": "display_data"
    }
   ],
   "source": [
    "plt.scatter(dates, marketcap)\n",
    "plt.show()"
   ]
  },
  {
   "cell_type": "code",
   "execution_count": 22,
   "id": "4f4a6e1d-43dd-4896-9ea9-ed666a7183f9",
   "metadata": {},
   "outputs": [],
   "source": [
    "corr_matrix = df.corr()\n",
    "corr = corr_matrix['Close'].sort_values(ascending=False)"
   ]
  },
  {
   "cell_type": "code",
   "execution_count": 23,
   "id": "1a6a0f1e-208d-4381-88fc-e123c91b8a76",
   "metadata": {},
   "outputs": [
    {
     "data": {
      "text/plain": [
       "Close        1.000000\n",
       "Open         0.764051\n",
       "High         0.738854\n",
       "Low          0.583044\n",
       "Marketcap   -0.249236\n",
       "Volume      -0.297088\n",
       "Date        -0.448504\n",
       "Name: Close, dtype: float64"
      ]
     },
     "execution_count": 23,
     "metadata": {},
     "output_type": "execute_result"
    }
   ],
   "source": [
    "corr"
   ]
  },
  {
   "cell_type": "code",
   "execution_count": 24,
   "id": "7fc5a6aa-3690-4b96-8c89-169ed5001d5e",
   "metadata": {},
   "outputs": [],
   "source": [
    "attributes = ['Close', 'Open', 'High', 'Low', 'Date']"
   ]
  },
  {
   "cell_type": "markdown",
   "id": "cc7feb20-d90f-4c62-893a-4f5b073cf5aa",
   "metadata": {},
   "source": [
    "### Visualizing Correlations"
   ]
  },
  {
   "cell_type": "code",
   "execution_count": 25,
   "id": "5ba39355-1df9-44b7-821d-4f6472730090",
   "metadata": {},
   "outputs": [],
   "source": [
    "from pandas.plotting import scatter_matrix"
   ]
  },
  {
   "cell_type": "code",
   "execution_count": 26,
   "id": "2f19aaa5-cd73-4fb2-a173-5e444ee7f4d2",
   "metadata": {},
   "outputs": [
    {
     "data": {
      "text/plain": [
       "array([[<Axes: xlabel='Close', ylabel='Close'>,\n",
       "        <Axes: xlabel='Open', ylabel='Close'>,\n",
       "        <Axes: xlabel='High', ylabel='Close'>,\n",
       "        <Axes: xlabel='Low', ylabel='Close'>,\n",
       "        <Axes: xlabel='Date', ylabel='Close'>],\n",
       "       [<Axes: xlabel='Close', ylabel='Open'>,\n",
       "        <Axes: xlabel='Open', ylabel='Open'>,\n",
       "        <Axes: xlabel='High', ylabel='Open'>,\n",
       "        <Axes: xlabel='Low', ylabel='Open'>,\n",
       "        <Axes: xlabel='Date', ylabel='Open'>],\n",
       "       [<Axes: xlabel='Close', ylabel='High'>,\n",
       "        <Axes: xlabel='Open', ylabel='High'>,\n",
       "        <Axes: xlabel='High', ylabel='High'>,\n",
       "        <Axes: xlabel='Low', ylabel='High'>,\n",
       "        <Axes: xlabel='Date', ylabel='High'>],\n",
       "       [<Axes: xlabel='Close', ylabel='Low'>,\n",
       "        <Axes: xlabel='Open', ylabel='Low'>,\n",
       "        <Axes: xlabel='High', ylabel='Low'>,\n",
       "        <Axes: xlabel='Low', ylabel='Low'>,\n",
       "        <Axes: xlabel='Date', ylabel='Low'>],\n",
       "       [<Axes: xlabel='Close', ylabel='Date'>,\n",
       "        <Axes: xlabel='Open', ylabel='Date'>,\n",
       "        <Axes: xlabel='High', ylabel='Date'>,\n",
       "        <Axes: xlabel='Low', ylabel='Date'>,\n",
       "        <Axes: xlabel='Date', ylabel='Date'>]], dtype=object)"
      ]
     },
     "execution_count": 26,
     "metadata": {},
     "output_type": "execute_result"
    },
    {
     "data": {
      "image/png": "[encoded data removed]",
      "text/plain": [
       "<Figure size 640x480 with 25 Axes>"
      ]
     },
     "metadata": {},
     "output_type": "display_data"
    }
   ],
   "source": [
    "scatter_matrix(df[attributes], alpha=0.8)"
   ]
  },
  {
   "cell_type": "code",
   "execution_count": 27,
   "id": "117f4f1e-85a6-4ed3-8229-6185bf86b921",
   "metadata": {},
   "outputs": [
    {
     "data": {
      "text/html": [
       "<div>\n",
       "<style scoped>\n",
       "    .dataframe tbody tr th:only-of-type {\n",
       "        vertical-align: middle;\n",
       "    }\n",
       "\n",
       "    .dataframe tbody tr th {\n",
       "        vertical-align: top;\n",
       "    }\n",
       "\n",
       "    .dataframe thead th {\n",
       "        text-align: right;\n",
       "    }\n",
       "</style>\n",
       "<table border=\"1\" class=\"dataframe\">\n",
       "  <thead>\n",
       "    <tr style=\"text-align: right;\">\n",
       "      <th></th>\n",
       "      <th>Date</th>\n",
       "      <th>High</th>\n",
       "      <th>Low</th>\n",
       "      <th>Open</th>\n",
       "      <th>Close</th>\n",
       "      <th>Volume</th>\n",
       "      <th>Marketcap</th>\n",
       "    </tr>\n",
       "  </thead>\n",
       "  <tbody>\n",
       "    <tr>\n",
       "      <th>0</th>\n",
       "      <td>2018</td>\n",
       "      <td>1.00833</td>\n",
       "      <td>1.00003</td>\n",
       "      <td>1.00427</td>\n",
       "      <td>1.00686</td>\n",
       "      <td>108803</td>\n",
       "      <td>24323316</td>\n",
       "    </tr>\n",
       "    <tr>\n",
       "      <th>1</th>\n",
       "      <td>2018</td>\n",
       "      <td>1.01908</td>\n",
       "      <td>1.00397</td>\n",
       "      <td>1.00494</td>\n",
       "      <td>1.00962</td>\n",
       "      <td>711783</td>\n",
       "      <td>24323316</td>\n",
       "    </tr>\n",
       "    <tr>\n",
       "      <th>2</th>\n",
       "      <td>2018</td>\n",
       "      <td>1.03123</td>\n",
       "      <td>1.00173</td>\n",
       "      <td>1.00994</td>\n",
       "      <td>1.00978</td>\n",
       "      <td>4177290</td>\n",
       "      <td>24323316</td>\n",
       "    </tr>\n",
       "    <tr>\n",
       "      <th>3</th>\n",
       "      <td>2018</td>\n",
       "      <td>1.01871</td>\n",
       "      <td>1.00114</td>\n",
       "      <td>1.00861</td>\n",
       "      <td>1.01272</td>\n",
       "      <td>1322240</td>\n",
       "      <td>24323316</td>\n",
       "    </tr>\n",
       "    <tr>\n",
       "      <th>4</th>\n",
       "      <td>2018</td>\n",
       "      <td>1.02029</td>\n",
       "      <td>1.00355</td>\n",
       "      <td>1.01445</td>\n",
       "      <td>1.00743</td>\n",
       "      <td>698507</td>\n",
       "      <td>24323316</td>\n",
       "    </tr>\n",
       "  </tbody>\n",
       "</table>\n",
       "</div>"
      ],
      "text/plain": [
       "   Date     High      Low     Open    Close   Volume  Marketcap\n",
       "0  2018  1.00833  1.00003  1.00427  1.00686   108803   24323316\n",
       "1  2018  1.01908  1.00397  1.00494  1.00962   711783   24323316\n",
       "2  2018  1.03123  1.00173  1.00994  1.00978  4177290   24323316\n",
       "3  2018  1.01871  1.00114  1.00861  1.01272  1322240   24323316\n",
       "4  2018  1.02029  1.00355  1.01445  1.00743   698507   24323316"
      ]
     },
     "execution_count": 27,
     "metadata": {},
     "output_type": "execute_result"
    }
   ],
   "source": [
    "df.head()"
   ]
  },
  {
   "cell_type": "code",
   "execution_count": 28,
   "id": "27304118-7a67-479f-a9e4-2f2df60f1a54",
   "metadata": {},
   "outputs": [
    {
     "data": {
      "text/plain": [
       "count    1002.000000\n",
       "mean     2019.654691\n",
       "std         0.876216\n",
       "min      2018.000000\n",
       "25%      2019.000000\n",
       "50%      2020.000000\n",
       "75%      2020.000000\n",
       "max      2021.000000\n",
       "Name: Date, dtype: float64"
      ]
     },
     "execution_count": 28,
     "metadata": {},
     "output_type": "execute_result"
    }
   ],
   "source": [
    "dates.describe()"
   ]
  },
  {
   "cell_type": "code",
   "execution_count": 29,
   "id": "ddeb501c-185d-4691-81b6-5c6c3c125b17",
   "metadata": {},
   "outputs": [
    {
     "data": {
      "text/plain": [
       "<matplotlib.collections.PathCollection at 0x1ab3491a290>"
      ]
     },
     "execution_count": 29,
     "metadata": {},
     "output_type": "execute_result"
    },
    {
     "data": {
      "image/png": "[encoded data removed]",
      "text/plain": [
       "<Figure size 640x480 with 1 Axes>"
      ]
     },
     "metadata": {},
     "output_type": "display_data"
    }
   ],
   "source": [
    "plt.scatter(df['High'], df['Close'])"
   ]
  },
  {
   "cell_type": "code",
   "execution_count": 30,
   "id": "68a1c7a4-b042-4743-b7a7-4e0019bf76c8",
   "metadata": {},
   "outputs": [
    {
     "data": {
      "text/plain": [
       "<matplotlib.collections.PathCollection at 0x1ab34981cd0>"
      ]
     },
     "execution_count": 30,
     "metadata": {},
     "output_type": "execute_result"
    },
    {
     "data": {
      "image/png": "[encoded data removed]",
      "text/plain": [
       "<Figure size 640x480 with 1 Axes>"
      ]
     },
     "metadata": {},
     "output_type": "display_data"
    }
   ],
   "source": [
    "plt.scatter(df['Close'], df['Low'])"
   ]
  },
  {
   "cell_type": "code",
   "execution_count": 31,
   "id": "ee55336f-12c8-40eb-a7c3-0bd7abaf1f7d",
   "metadata": {},
   "outputs": [
    {
     "data": {
      "text/plain": [
       "<matplotlib.collections.PathCollection at 0x1ab34b57510>"
      ]
     },
     "execution_count": 31,
     "metadata": {},
     "output_type": "execute_result"
    },
    {
     "data": {
      "image/png": "[encoded data removed]",
      "text/plain": [
       "<Figure size 640x480 with 1 Axes>"
      ]
     },
     "metadata": {},
     "output_type": "display_data"
    }
   ],
   "source": [
    "plt.scatter(df['Close'], df['Open'])"
   ]
  },
  {
   "cell_type": "code",
   "execution_count": 32,
   "id": "03e98c4d-80ba-48d3-b719-72a4e036fe7c",
   "metadata": {},
   "outputs": [
    {
     "data": {
      "text/plain": [
       "[<matplotlib.lines.Line2D at 0x1ab349ebc10>]"
      ]
     },
     "execution_count": 32,
     "metadata": {},
     "output_type": "execute_result"
    },
    {
     "data": {
      "image/png": "[encoded data removed]",
      "text/plain": [
       "<Figure size 640x480 with 1 Axes>"
      ]
     },
     "metadata": {},
     "output_type": "display_data"
    }
   ],
   "source": [
    "plt.plot(df['Date'], df['Close'])"
   ]
  },
  {
   "cell_type": "markdown",
   "id": "981aa7c5-7c00-4aab-940a-f580170521b9",
   "metadata": {},
   "source": [
    "# Getting the data ready for training"
   ]
  },
  {
   "cell_type": "code",
   "execution_count": 33,
   "id": "cfcdc02c-cd2c-4430-b2b2-d579c8b2b614",
   "metadata": {},
   "outputs": [
    {
     "name": "stdout",
     "output_type": "stream",
     "text": [
      "<class 'pandas.core.frame.DataFrame'>\n",
      "RangeIndex: 1002 entries, 0 to 1001\n",
      "Data columns (total 7 columns):\n",
      " #   Column     Non-Null Count  Dtype  \n",
      "---  ------     --------------  -----  \n",
      " 0   Date       1002 non-null   int32  \n",
      " 1   High       1002 non-null   float64\n",
      " 2   Low        1002 non-null   float64\n",
      " 3   Open       1002 non-null   float64\n",
      " 4   Close      1002 non-null   float64\n",
      " 5   Volume     1002 non-null   int64  \n",
      " 6   Marketcap  1002 non-null   int64  \n",
      "dtypes: float64(4), int32(1), int64(2)\n",
      "memory usage: 51.0 KB\n"
     ]
    }
   ],
   "source": [
    "df.info()"
   ]
  },
  {
   "cell_type": "markdown",
   "id": "ac76a034-9f96-40d9-9302-107ad1440ee5",
   "metadata": {},
   "source": [
    "### Train Test Splitting"
   ]
  },
  {
   "cell_type": "code",
   "execution_count": 34,
   "id": "d26841c0-36cc-48fb-b226-68a99706e90f",
   "metadata": {},
   "outputs": [],
   "source": [
    "from sklearn.model_selection import train_test_split"
   ]
  },
  {
   "cell_type": "code",
   "execution_count": 35,
   "id": "507e9379-c548-484b-99b7-57ea233f3674",
   "metadata": {},
   "outputs": [],
   "source": [
    "features = df.drop('Close', axis=1).copy()\n",
    "labels = df['Close']"
   ]
  },
  {
   "cell_type": "code",
   "execution_count": 36,
   "id": "7849ef02-380e-45b6-bd2e-87e94996653a",
   "metadata": {},
   "outputs": [
    {
     "data": {
      "text/html": [
       "<div>\n",
       "<style scoped>\n",
       "    .dataframe tbody tr th:only-of-type {\n",
       "        vertical-align: middle;\n",
       "    }\n",
       "\n",
       "    .dataframe tbody tr th {\n",
       "        vertical-align: top;\n",
       "    }\n",
       "\n",
       "    .dataframe thead th {\n",
       "        text-align: right;\n",
       "    }\n",
       "</style>\n",
       "<table border=\"1\" class=\"dataframe\">\n",
       "  <thead>\n",
       "    <tr style=\"text-align: right;\">\n",
       "      <th></th>\n",
       "      <th>Date</th>\n",
       "      <th>High</th>\n",
       "      <th>Low</th>\n",
       "      <th>Open</th>\n",
       "      <th>Volume</th>\n",
       "      <th>Marketcap</th>\n",
       "    </tr>\n",
       "  </thead>\n",
       "  <tbody>\n",
       "    <tr>\n",
       "      <th>0</th>\n",
       "      <td>2018</td>\n",
       "      <td>1.008330</td>\n",
       "      <td>1.000030</td>\n",
       "      <td>1.004270</td>\n",
       "      <td>108803</td>\n",
       "      <td>24323316</td>\n",
       "    </tr>\n",
       "    <tr>\n",
       "      <th>1</th>\n",
       "      <td>2018</td>\n",
       "      <td>1.019080</td>\n",
       "      <td>1.003970</td>\n",
       "      <td>1.004940</td>\n",
       "      <td>711783</td>\n",
       "      <td>24323316</td>\n",
       "    </tr>\n",
       "    <tr>\n",
       "      <th>2</th>\n",
       "      <td>2018</td>\n",
       "      <td>1.031230</td>\n",
       "      <td>1.001730</td>\n",
       "      <td>1.009940</td>\n",
       "      <td>4177290</td>\n",
       "      <td>24323316</td>\n",
       "    </tr>\n",
       "    <tr>\n",
       "      <th>3</th>\n",
       "      <td>2018</td>\n",
       "      <td>1.018710</td>\n",
       "      <td>1.001140</td>\n",
       "      <td>1.008610</td>\n",
       "      <td>1322240</td>\n",
       "      <td>24323316</td>\n",
       "    </tr>\n",
       "    <tr>\n",
       "      <th>4</th>\n",
       "      <td>2018</td>\n",
       "      <td>1.020290</td>\n",
       "      <td>1.003550</td>\n",
       "      <td>1.014450</td>\n",
       "      <td>698507</td>\n",
       "      <td>24323316</td>\n",
       "    </tr>\n",
       "    <tr>\n",
       "      <th>...</th>\n",
       "      <td>...</td>\n",
       "      <td>...</td>\n",
       "      <td>...</td>\n",
       "      <td>...</td>\n",
       "      <td>...</td>\n",
       "      <td>...</td>\n",
       "    </tr>\n",
       "    <tr>\n",
       "      <th>997</th>\n",
       "      <td>2021</td>\n",
       "      <td>1.000916</td>\n",
       "      <td>0.999966</td>\n",
       "      <td>1.000177</td>\n",
       "      <td>1787895570</td>\n",
       "      <td>25397754841</td>\n",
       "    </tr>\n",
       "    <tr>\n",
       "      <th>998</th>\n",
       "      <td>2021</td>\n",
       "      <td>1.000670</td>\n",
       "      <td>0.999925</td>\n",
       "      <td>1.000048</td>\n",
       "      <td>1491016821</td>\n",
       "      <td>25504372339</td>\n",
       "    </tr>\n",
       "    <tr>\n",
       "      <th>999</th>\n",
       "      <td>2021</td>\n",
       "      <td>1.000187</td>\n",
       "      <td>0.998901</td>\n",
       "      <td>0.999956</td>\n",
       "      <td>1578667344</td>\n",
       "      <td>25511718609</td>\n",
       "    </tr>\n",
       "    <tr>\n",
       "      <th>1000</th>\n",
       "      <td>2021</td>\n",
       "      <td>1.000839</td>\n",
       "      <td>0.999459</td>\n",
       "      <td>0.999565</td>\n",
       "      <td>1887495558</td>\n",
       "      <td>25547238480</td>\n",
       "    </tr>\n",
       "    <tr>\n",
       "      <th>1001</th>\n",
       "      <td>2021</td>\n",
       "      <td>1.000731</td>\n",
       "      <td>0.999662</td>\n",
       "      <td>1.000501</td>\n",
       "      <td>2312601910</td>\n",
       "      <td>25673216976</td>\n",
       "    </tr>\n",
       "  </tbody>\n",
       "</table>\n",
       "<p>1002 rows × 6 columns</p>\n",
       "</div>"
      ],
      "text/plain": [
       "      Date      High       Low      Open      Volume    Marketcap\n",
       "0     2018  1.008330  1.000030  1.004270      108803     24323316\n",
       "1     2018  1.019080  1.003970  1.004940      711783     24323316\n",
       "2     2018  1.031230  1.001730  1.009940     4177290     24323316\n",
       "3     2018  1.018710  1.001140  1.008610     1322240     24323316\n",
       "4     2018  1.020290  1.003550  1.014450      698507     24323316\n",
       "...    ...       ...       ...       ...         ...          ...\n",
       "997   2021  1.000916  0.999966  1.000177  1787895570  25397754841\n",
       "998   2021  1.000670  0.999925  1.000048  1491016821  25504372339\n",
       "999   2021  1.000187  0.998901  0.999956  1578667344  25511718609\n",
       "1000  2021  1.000839  0.999459  0.999565  1887495558  25547238480\n",
       "1001  2021  1.000731  0.999662  1.000501  2312601910  25673216976\n",
       "\n",
       "[1002 rows x 6 columns]"
      ]
     },
     "execution_count": 36,
     "metadata": {},
     "output_type": "execute_result"
    }
   ],
   "source": [
    "features"
   ]
  },
  {
   "cell_type": "code",
   "execution_count": 37,
   "id": "9f34eda5-a7ef-4fec-928f-caa8b28cad86",
   "metadata": {},
   "outputs": [
    {
     "data": {
      "text/plain": [
       "0       1.006860\n",
       "1       1.009620\n",
       "2       1.009780\n",
       "3       1.012720\n",
       "4       1.007430\n",
       "          ...   \n",
       "997     1.000035\n",
       "998     0.999984\n",
       "999     0.999500\n",
       "1000    1.000528\n",
       "1001    1.000059\n",
       "Name: Close, Length: 1002, dtype: float64"
      ]
     },
     "execution_count": 37,
     "metadata": {},
     "output_type": "execute_result"
    }
   ],
   "source": [
    "labels"
   ]
  },
  {
   "cell_type": "code",
   "execution_count": 38,
   "id": "56cd41c4-4ece-4f7c-8bdc-a4e78edcfeb9",
   "metadata": {},
   "outputs": [],
   "source": [
    "train_x, test_x, train_y, test_y = train_test_split(features, labels, train_size=0.8, shuffle=True)"
   ]
  },
  {
   "cell_type": "code",
   "execution_count": 39,
   "id": "8057b5c4-c5f6-423c-81e6-e9715cc792f2",
   "metadata": {},
   "outputs": [
    {
     "name": "stdout",
     "output_type": "stream",
     "text": [
      "(801, 6)\n",
      "(801,)\n",
      "(201, 6)\n",
      "(201,)\n"
     ]
    }
   ],
   "source": [
    "print(train_x.shape)\n",
    "print(train_y.shape)\n",
    "print(test_x.shape)\n",
    "print(test_y.shape)"
   ]
  },
  {
   "cell_type": "code",
   "execution_count": 40,
   "id": "35de343a-c5f8-40d0-ae21-264b9c512638",
   "metadata": {},
   "outputs": [],
   "source": [
    "train_x = train_x.to_numpy()\n",
    "test_x = test_x.to_numpy()"
   ]
  },
  {
   "cell_type": "code",
   "execution_count": 41,
   "id": "f2aa16b3-83da-43ca-909a-c801c6b0886f",
   "metadata": {},
   "outputs": [
    {
     "name": "stdout",
     "output_type": "stream",
     "text": [
      "[[2.01800000e+03 1.00801000e+00 9.88213000e-01 9.92897000e-01\n",
      "  2.04239000e+06 1.32263915e+08]\n",
      " [2.02100000e+03 1.00078363e+00 9.99642130e-01 1.00011659e+00\n",
      "  1.63000040e+09 4.82143222e+09]\n",
      " [2.01900000e+03 1.00833166e+00 9.95417405e-01 1.00272875e+00\n",
      "  2.94667615e+08 4.69576715e+08]\n",
      " ...\n",
      " [2.01900000e+03 1.01690012e+00 1.00664067e+00 1.01559032e+00\n",
      "  2.63653490e+07 3.02531642e+08]\n",
      " [2.01900000e+03 1.00568207e+00 9.97778755e-01 1.00167420e+00\n",
      "  6.36954560e+07 2.59775722e+08]\n",
      " [2.02000000e+03 1.00462268e+00 9.93065119e-01 1.00217031e+00\n",
      "  4.77608688e+08 7.38416889e+08]]\n",
      "[[2.02000000e+03 1.00730977e+00 9.94465511e-01 1.00206600e+00\n",
      "  3.86722721e+08 7.45730540e+08]\n",
      " [2.02100000e+03 1.00035944e+00 9.99722370e-01 9.99933460e-01\n",
      "  1.44334447e+09 5.81305275e+09]\n",
      " [2.01900000e+03 1.02472352e+00 1.00875337e+00 1.01364861e+00\n",
      "  1.54299830e+07 2.76092246e+08]\n",
      " ...\n",
      " [2.02000000e+03 1.00653991e+00 9.96993956e-01 1.00478011e+00\n",
      "  8.97676018e+08 4.39323845e+08]\n",
      " [2.01800000e+03 1.03179218e+00 9.93286727e-01 1.00825549e+00\n",
      "  1.07618940e+07 1.78770938e+08]\n",
      " [2.02000000e+03 1.00522164e+00 9.98750068e-01 1.00147029e+00\n",
      "  2.65869062e+08 7.33934539e+08]]\n",
      "24     0.999969\n",
      "829    1.000085\n",
      "392    1.003358\n",
      "200    1.012979\n",
      "195    1.003838\n",
      "         ...   \n",
      "14     1.010590\n",
      "442    1.012936\n",
      "117    1.014244\n",
      "184    1.002826\n",
      "597    0.998959\n",
      "Name: Close, Length: 801, dtype: float64\n",
      "595    0.999371\n",
      "844    1.000026\n",
      "121    1.011048\n",
      "833    1.000041\n",
      "269    1.000466\n",
      "         ...   \n",
      "998    0.999984\n",
      "900    1.000274\n",
      "509    1.001161\n",
      "54     1.012771\n",
      "618    1.002308\n",
      "Name: Close, Length: 201, dtype: float64\n"
     ]
    }
   ],
   "source": [
    "print(train_x)\n",
    "print(test_x)\n",
    "print(train_y)\n",
    "print(test_y)"
   ]
  },
  {
   "cell_type": "markdown",
   "id": "b40da22d-eba2-45d9-b759-4748d9bf2346",
   "metadata": {},
   "source": [
    "# Selecting Model"
   ]
  },
  {
   "cell_type": "code",
   "execution_count": 42,
   "id": "1be3993f-aaae-44d7-8f6b-311894f3a287",
   "metadata": {},
   "outputs": [],
   "source": [
    "from sklearn.linear_model import LinearRegression\n",
    "from sklearn.tree import DecisionTreeRegressor\n",
    "from sklearn.neighbors import KNeighborsRegressor\n",
    "from sklearn.ensemble import RandomForestRegressor\n",
    "from sklearn.metrics import mean_squared_error"
   ]
  },
  {
   "cell_type": "markdown",
   "id": "1187845d-f734-4485-b045-b4cfe7175246",
   "metadata": {},
   "source": [
    "### Linear Regression model"
   ]
  },
  {
   "cell_type": "code",
   "execution_count": 43,
   "id": "53715967-72d8-484d-978e-031e1ed21c3c",
   "metadata": {},
   "outputs": [],
   "source": [
    "x = train_x[:10]\n",
    "y = train_y[:10]"
   ]
  },
  {
   "cell_type": "code",
   "execution_count": 44,
   "id": "424a038f-e347-41a8-9855-c4030f478072",
   "metadata": {},
   "outputs": [
    {
     "name": "stdout",
     "output_type": "stream",
     "text": [
      "[[2.01800000e+03 1.00801000e+00 9.88213000e-01 9.92897000e-01\n",
      "  2.04239000e+06 1.32263915e+08]\n",
      " [2.02100000e+03 1.00078363e+00 9.99642130e-01 1.00011659e+00\n",
      "  1.63000040e+09 4.82143222e+09]\n",
      " [2.01900000e+03 1.00833166e+00 9.95417405e-01 1.00272875e+00\n",
      "  2.94667615e+08 4.69576715e+08]\n",
      " [2.01900000e+03 1.02103643e+00 1.01162408e+00 1.01907937e+00\n",
      "  4.88498970e+07 2.95631313e+08]\n",
      " [2.01900000e+03 1.00820712e+00 9.96920829e-01 1.00207046e+00\n",
      "  4.66972450e+07 2.52701767e+08]\n",
      " [2.01900000e+03 1.01663539e+00 9.98743541e-01 1.01101203e+00\n",
      "  2.58258860e+07 3.65745274e+08]\n",
      " [2.01900000e+03 1.01942531e+00 1.00546082e+00 1.00983631e+00\n",
      "  3.21594020e+07 2.33988554e+08]\n",
      " [2.01900000e+03 1.00963717e+00 1.00218587e+00 1.00720164e+00\n",
      "  1.34758322e+08 3.25541428e+08]\n",
      " [2.02100000e+03 1.00398159e+00 1.00032308e+00 1.00095309e+00\n",
      "  1.47287918e+09 9.76722891e+09]\n",
      " [2.01900000e+03 1.01865722e+00 1.01129772e+00 1.01604385e+00\n",
      "  3.56371110e+07 2.43037194e+08]]\n",
      "24     0.999969\n",
      "829    1.000085\n",
      "392    1.003358\n",
      "200    1.012979\n",
      "195    1.003838\n",
      "97     1.007592\n",
      "136    1.015738\n",
      "212    1.004044\n",
      "892    1.002438\n",
      "158    1.015428\n",
      "Name: Close, dtype: float64\n"
     ]
    }
   ],
   "source": [
    "print(x)\n",
    "print(y)"
   ]
  },
  {
   "cell_type": "code",
   "execution_count": 45,
   "id": "e3d80abf-ac2d-4504-9401-73690ef88ef9",
   "metadata": {},
   "outputs": [
    {
     "data": {
      "text/html": [
       "<style>#sk-container-id-1 {color: black;}#sk-container-id-1 pre{padding: 0;}#sk-container-id-1 div.sk-toggleable {background-color: white;}#sk-container-id-1 label.sk-toggleable__label {cursor: pointer;display: block;width: 100%;margin-bottom: 0;padding: 0.3em;box-sizing: border-box;text-align: center;}#sk-container-id-1 label.sk-toggleable__label-arrow:before {content: \"▸\";float: left;margin-right: 0.25em;color: #696969;}#sk-container-id-1 label.sk-toggleable__label-arrow:hover:before {color: black;}#sk-container-id-1 div.sk-estimator:hover label.sk-toggleable__label-arrow:before {color: black;}#sk-container-id-1 div.sk-toggleable__content {max-height: 0;max-width: 0;overflow: hidden;text-align: left;background-color: #f0f8ff;}#sk-container-id-1 div.sk-toggleable__content pre {margin: 0.2em;color: black;border-radius: 0.25em;background-color: #f0f8ff;}#sk-container-id-1 input.sk-toggleable__control:checked~div.sk-toggleable__content {max-height: 200px;max-width: 100%;overflow: auto;}#sk-container-id-1 input.sk-toggleable__control:checked~label.sk-toggleable__label-arrow:before {content: \"▾\";}#sk-container-id-1 div.sk-estimator input.sk-toggleable__control:checked~label.sk-toggleable__label {background-color: #d4ebff;}#sk-container-id-1 div.sk-label input.sk-toggleable__control:checked~label.sk-toggleable__label {background-color: #d4ebff;}#sk-container-id-1 input.sk-hidden--visually {border: 0;clip: rect(1px 1px 1px 1px);clip: rect(1px, 1px, 1px, 1px);height: 1px;margin: -1px;overflow: hidden;padding: 0;position: absolute;width: 1px;}#sk-container-id-1 div.sk-estimator {font-family: monospace;background-color: #f0f8ff;border: 1px dotted black;border-radius: 0.25em;box-sizing: border-box;margin-bottom: 0.5em;}#sk-container-id-1 div.sk-estimator:hover {background-color: #d4ebff;}#sk-container-id-1 div.sk-parallel-item::after {content: \"\";width: 100%;border-bottom: 1px solid gray;flex-grow: 1;}#sk-container-id-1 div.sk-label:hover label.sk-toggleable__label {background-color: #d4ebff;}#sk-container-id-1 div.sk-serial::before {content: \"\";position: absolute;border-left: 1px solid gray;box-sizing: border-box;top: 0;bottom: 0;left: 50%;z-index: 0;}#sk-container-id-1 div.sk-serial {display: flex;flex-direction: column;align-items: center;background-color: white;padding-right: 0.2em;padding-left: 0.2em;position: relative;}#sk-container-id-1 div.sk-item {position: relative;z-index: 1;}#sk-container-id-1 div.sk-parallel {display: flex;align-items: stretch;justify-content: center;background-color: white;position: relative;}#sk-container-id-1 div.sk-item::before, #sk-container-id-1 div.sk-parallel-item::before {content: \"\";position: absolute;border-left: 1px solid gray;box-sizing: border-box;top: 0;bottom: 0;left: 50%;z-index: -1;}#sk-container-id-1 div.sk-parallel-item {display: flex;flex-direction: column;z-index: 1;position: relative;background-color: white;}#sk-container-id-1 div.sk-parallel-item:first-child::after {align-self: flex-end;width: 50%;}#sk-container-id-1 div.sk-parallel-item:last-child::after {align-self: flex-start;width: 50%;}#sk-container-id-1 div.sk-parallel-item:only-child::after {width: 0;}#sk-container-id-1 div.sk-dashed-wrapped {border: 1px dashed gray;margin: 0 0.4em 0.5em 0.4em;box-sizing: border-box;padding-bottom: 0.4em;background-color: white;}#sk-container-id-1 div.sk-label label {font-family: monospace;font-weight: bold;display: inline-block;line-height: 1.2em;}#sk-container-id-1 div.sk-label-container {text-align: center;}#sk-container-id-1 div.sk-container {/* jupyter's `normalize.less` sets `[hidden] { display: none; }` but bootstrap.min.css set `[hidden] { display: none !important; }` so we also need the `!important` here to be able to override the default hidden behavior on the sphinx rendered scikit-learn.org. See: https://github.com/scikit-learn/scikit-learn/issues/21755 */display: inline-block !important;position: relative;}#sk-container-id-1 div.sk-text-repr-fallback {display: none;}</style><div id=\"sk-container-id-1\" class=\"sk-top-container\"><div class=\"sk-text-repr-fallback\"><pre>LinearRegression()</pre><b>In a Jupyter environment, please rerun this cell to show the HTML representation or trust the notebook. <br />On GitHub, the HTML representation is unable to render, please try loading this page with nbviewer.org.</b></div><div class=\"sk-container\" hidden><div class=\"sk-item\"><div class=\"sk-estimator sk-toggleable\"><input class=\"sk-toggleable__control sk-hidden--visually\" id=\"sk-estimator-id-1\" type=\"checkbox\" checked><label for=\"sk-estimator-id-1\" class=\"sk-toggleable__label sk-toggleable__label-arrow\">LinearRegression</label><div class=\"sk-toggleable__content\"><pre>LinearRegression()</pre></div></div></div></div></div>"
      ],
      "text/plain": [
       "LinearRegression()"
      ]
     },
     "execution_count": 45,
     "metadata": {},
     "output_type": "execute_result"
    }
   ],
   "source": [
    "model1 = LinearRegression()\n",
    "model1.fit(train_x, train_y)"
   ]
  },
  {
   "cell_type": "code",
   "execution_count": 46,
   "id": "f725373d-2aaa-4f2f-9cd4-280320febcf9",
   "metadata": {},
   "outputs": [],
   "source": [
    "lin_predictions = model1.predict(x)"
   ]
  },
  {
   "cell_type": "code",
   "execution_count": 47,
   "id": "f2ccc011-1219-4950-9d3f-01518c3e286e",
   "metadata": {},
   "outputs": [
    {
     "data": {
      "text/plain": [
       "array([0.99775439, 1.00010261, 1.00214342, 1.01524513, 1.00250705,\n",
       "       1.00743356, 1.01048252, 1.00600275, 1.00138595, 1.0138131 ])"
      ]
     },
     "execution_count": 47,
     "metadata": {},
     "output_type": "execute_result"
    }
   ],
   "source": [
    "lin_predictions"
   ]
  },
  {
   "cell_type": "code",
   "execution_count": 48,
   "id": "7bcf3da9-61f0-47ab-b5a3-379e1ad2eb20",
   "metadata": {},
   "outputs": [
    {
     "data": {
      "text/plain": [
       "24     0.999969\n",
       "829    1.000085\n",
       "392    1.003358\n",
       "200    1.012979\n",
       "195    1.003838\n",
       "97     1.007592\n",
       "136    1.015738\n",
       "212    1.004044\n",
       "892    1.002438\n",
       "158    1.015428\n",
       "Name: Close, dtype: float64"
      ]
     },
     "execution_count": 48,
     "metadata": {},
     "output_type": "execute_result"
    }
   ],
   "source": [
    "y"
   ]
  },
  {
   "cell_type": "code",
   "execution_count": 49,
   "id": "d44153b3-c314-41f7-a4c8-79464f756b51",
   "metadata": {},
   "outputs": [],
   "source": [
    "lin_mse = mean_squared_error(y_true=y, y_pred=lin_predictions)\n",
    "lin_rmse = np.sqrt(lin_mse)"
   ]
  },
  {
   "cell_type": "code",
   "execution_count": 50,
   "id": "6a04e0e0-6ca1-495e-96a4-5346a983fba2",
   "metadata": {},
   "outputs": [
    {
     "data": {
      "text/plain": [
       "4.848106992739609e-06"
      ]
     },
     "execution_count": 50,
     "metadata": {},
     "output_type": "execute_result"
    }
   ],
   "source": [
    "lin_mse"
   ]
  },
  {
   "cell_type": "code",
   "execution_count": 51,
   "id": "89413efb-1c92-4acc-84db-ef51a058e560",
   "metadata": {},
   "outputs": [
    {
     "data": {
      "text/plain": [
       "0.002201841727449911"
      ]
     },
     "execution_count": 51,
     "metadata": {},
     "output_type": "execute_result"
    }
   ],
   "source": [
    "lin_rmse"
   ]
  },
  {
   "cell_type": "markdown",
   "id": "dc20224b-d249-49d2-91be-f738278593cd",
   "metadata": {},
   "source": [
    "## Decision Tree Regessor"
   ]
  },
  {
   "cell_type": "code",
   "execution_count": 52,
   "id": "608184bd-6c07-48a4-bd9a-6ff5508343a5",
   "metadata": {},
   "outputs": [],
   "source": [
    "model2 = DecisionTreeRegressor()\n",
    "model2.fit(train_x, train_y)\n",
    "dt_predictions = model2.predict(x)"
   ]
  },
  {
   "cell_type": "code",
   "execution_count": 53,
   "id": "ed0681c5-2eb6-4254-8128-1e3b4c8e4127",
   "metadata": {},
   "outputs": [
    {
     "data": {
      "text/plain": [
       "array([0.999969  , 1.00008539, 1.00335767, 1.01297894, 1.00383837,\n",
       "       1.00759202, 1.01573766, 1.00404371, 1.0024375 , 1.01542822])"
      ]
     },
     "execution_count": 53,
     "metadata": {},
     "output_type": "execute_result"
    }
   ],
   "source": [
    "dt_predictions"
   ]
  },
  {
   "cell_type": "code",
   "execution_count": 54,
   "id": "b424c29e-f955-41d9-b0d4-ef558bb9d478",
   "metadata": {},
   "outputs": [
    {
     "data": {
      "text/plain": [
       "24     0.999969\n",
       "829    1.000085\n",
       "392    1.003358\n",
       "200    1.012979\n",
       "195    1.003838\n",
       "97     1.007592\n",
       "136    1.015738\n",
       "212    1.004044\n",
       "892    1.002438\n",
       "158    1.015428\n",
       "Name: Close, dtype: float64"
      ]
     },
     "execution_count": 54,
     "metadata": {},
     "output_type": "execute_result"
    }
   ],
   "source": [
    "y"
   ]
  },
  {
   "cell_type": "code",
   "execution_count": 55,
   "id": "e8092575-43e4-481b-8ac2-212af18540e9",
   "metadata": {},
   "outputs": [
    {
     "name": "stdout",
     "output_type": "stream",
     "text": [
      "0.0\n"
     ]
    }
   ],
   "source": [
    "dt_mse = mean_squared_error(y_true=y, y_pred=dt_predictions)\n",
    "dt_rmse = np.sqrt(dt_mse)\n",
    "print(dt_rmse)"
   ]
  },
  {
   "cell_type": "markdown",
   "id": "646fe7a0-a119-4820-a7fc-71fae352de14",
   "metadata": {},
   "source": [
    "### KNN Regressor"
   ]
  },
  {
   "cell_type": "code",
   "execution_count": 56,
   "id": "c06121cb-37ad-4f90-8ffd-315457e88f33",
   "metadata": {},
   "outputs": [],
   "source": [
    "model3 = KNeighborsRegressor()\n",
    "model3.fit(train_x, train_y)\n",
    "knn_predictions = model3.predict(x)"
   ]
  },
  {
   "cell_type": "code",
   "execution_count": 57,
   "id": "8d3cf75f-0b43-4776-8f1a-80410d2a2135",
   "metadata": {},
   "outputs": [
    {
     "data": {
      "text/plain": [
       "array([1.0013734 , 1.00011326, 1.00298279, 1.01392795, 1.00928075,\n",
       "       1.01123934, 1.01351962, 1.00041796, 1.00130171, 1.01466742])"
      ]
     },
     "execution_count": 57,
     "metadata": {},
     "output_type": "execute_result"
    }
   ],
   "source": [
    "knn_predictions"
   ]
  },
  {
   "cell_type": "code",
   "execution_count": 58,
   "id": "825a7203-0311-43c2-b18e-f1253412add5",
   "metadata": {},
   "outputs": [
    {
     "data": {
      "text/plain": [
       "24     0.999969\n",
       "829    1.000085\n",
       "392    1.003358\n",
       "200    1.012979\n",
       "195    1.003838\n",
       "97     1.007592\n",
       "136    1.015738\n",
       "212    1.004044\n",
       "892    1.002438\n",
       "158    1.015428\n",
       "Name: Close, dtype: float64"
      ]
     },
     "execution_count": 58,
     "metadata": {},
     "output_type": "execute_result"
    }
   ],
   "source": [
    "y"
   ]
  },
  {
   "cell_type": "code",
   "execution_count": 59,
   "id": "9835bbb9-2a99-410e-b957-628145f8ece9",
   "metadata": {},
   "outputs": [
    {
     "name": "stdout",
     "output_type": "stream",
     "text": [
      "0.0025665393378308957\n"
     ]
    }
   ],
   "source": [
    "knn_mse = mean_squared_error(y_true=y, y_pred=knn_predictions)\n",
    "knn_rmse = np.sqrt(knn_mse)\n",
    "print(knn_rmse)"
   ]
  },
  {
   "cell_type": "markdown",
   "id": "18c838a2-81d2-4abb-88b0-79a10c7b2aa0",
   "metadata": {},
   "source": [
    "### Random Forest Regressor"
   ]
  },
  {
   "cell_type": "code",
   "execution_count": 60,
   "id": "78a2a53d-daba-4327-aae0-972737ad6ccb",
   "metadata": {},
   "outputs": [],
   "source": [
    "model4 = RandomForestRegressor()\n",
    "model4.fit(train_x, train_y)\n",
    "rfr_predictions = model4.predict(x)"
   ]
  },
  {
   "cell_type": "code",
   "execution_count": 61,
   "id": "ce29b4aa-a0a9-47f5-860f-36e4874664fb",
   "metadata": {},
   "outputs": [
    {
     "data": {
      "text/plain": [
       "array([1.00080032, 1.00008612, 1.0026751 , 1.01393727, 1.00333017,\n",
       "       1.00790688, 1.01384346, 1.00487345, 1.00206252, 1.01517105])"
      ]
     },
     "execution_count": 61,
     "metadata": {},
     "output_type": "execute_result"
    }
   ],
   "source": [
    "rfr_predictions"
   ]
  },
  {
   "cell_type": "code",
   "execution_count": 62,
   "id": "29c67aa0-5753-46be-9a6c-a569115202e4",
   "metadata": {},
   "outputs": [
    {
     "data": {
      "text/plain": [
       "24     0.999969\n",
       "829    1.000085\n",
       "392    1.003358\n",
       "200    1.012979\n",
       "195    1.003838\n",
       "97     1.007592\n",
       "136    1.015738\n",
       "212    1.004044\n",
       "892    1.002438\n",
       "158    1.015428\n",
       "Name: Close, dtype: float64"
      ]
     },
     "execution_count": 62,
     "metadata": {},
     "output_type": "execute_result"
    }
   ],
   "source": [
    "y"
   ]
  },
  {
   "cell_type": "code",
   "execution_count": 63,
   "id": "a053f9b5-0bf3-4758-9651-9c433fdb5902",
   "metadata": {},
   "outputs": [
    {
     "name": "stdout",
     "output_type": "stream",
     "text": [
      "0.0008316233132135613\n"
     ]
    }
   ],
   "source": [
    "rfr_mse = mean_squared_error(y_true=y, y_pred=rfr_predictions)\n",
    "rfr_rmse = np.sqrt(rfr_mse)\n",
    "print(rfr_rmse)"
   ]
  },
  {
   "cell_type": "markdown",
   "id": "ec020480-5930-41cc-b88d-b9b54cb6ab0c",
   "metadata": {},
   "source": [
    "# Cross Validation"
   ]
  },
  {
   "cell_type": "code",
   "execution_count": 64,
   "id": "992957e3-c816-48bc-b145-5e3d603f4bb6",
   "metadata": {},
   "outputs": [],
   "source": [
    "from sklearn.model_selection import cross_val_score"
   ]
  },
  {
   "cell_type": "code",
   "execution_count": 65,
   "id": "bb75e1ad-4121-4c79-bcc4-4ec6a1dece4c",
   "metadata": {},
   "outputs": [],
   "source": [
    "def printScore(score):\n",
    "    print(f\"The scores are: {score}\")\n",
    "    print(f\"The mean score is {np.mean(score)}\")\n",
    "    print(f\"The std score is {np.std(score)}\")"
   ]
  },
  {
   "cell_type": "markdown",
   "id": "53179d7c-cdc6-4eb0-bc3d-4eb6f706ab6a",
   "metadata": {},
   "source": [
    "### Test Linear Regression"
   ]
  },
  {
   "cell_type": "code",
   "execution_count": 66,
   "id": "94cae454-aa33-4ec1-926b-3300d50d7ff7",
   "metadata": {},
   "outputs": [
    {
     "name": "stdout",
     "output_type": "stream",
     "text": [
      "The scores are: [0.00153862 0.0060912  0.00163226 0.00168921 0.00289816 0.00178914\n",
      " 0.00272982 0.00121383 0.0109141  0.0011595  0.01199939 0.00229455\n",
      " 0.00170058 0.00144718 0.00767042 0.00410988 0.00107911 0.00071568\n",
      " 0.00238844 0.00373336 0.00265015 0.01696034 0.00621691 0.00274931\n",
      " 0.00195208 0.00187402 0.00303899 0.00044578 0.00160477 0.00415761\n",
      " 0.0040808  0.00715286 0.00442546 0.00078999 0.00500712 0.00255091\n",
      " 0.00331195 0.00286985 0.00017168 0.00446211 0.00236461 0.00087756\n",
      " 0.00824192 0.00251916 0.0036478  0.00198598 0.00096351 0.00331974\n",
      " 0.00195732 0.00139377]\n",
      "The mean score is 0.0034507694247199305\n",
      "The std score is 0.003142383183911124\n"
     ]
    }
   ],
   "source": [
    "lin_mse_score = cross_val_score(model1, test_x, test_y, scoring=\"neg_mean_squared_error\", cv=50)\n",
    "lin_rmse_score = np.sqrt(-lin_mse_score)\n",
    "printScore(lin_rmse_score)"
   ]
  },
  {
   "cell_type": "markdown",
   "id": "8dbd439a-6a06-4db5-b686-83829964c177",
   "metadata": {},
   "source": [
    "### Test KNN"
   ]
  },
  {
   "cell_type": "code",
   "execution_count": 67,
   "id": "acc68009-7f71-45d6-89ce-6fb71d704895",
   "metadata": {},
   "outputs": [
    {
     "name": "stdout",
     "output_type": "stream",
     "text": [
      "The scores are: [0.0014235  0.01126249 0.00378501 0.00401976 0.00157441 0.00151609\n",
      " 0.0018129  0.00167528 0.00295405 0.00178699 0.00960534 0.00544061\n",
      " 0.00161255 0.00228161 0.00214461 0.00305946 0.00049586 0.00133399\n",
      " 0.00210877 0.00166426 0.00310818 0.0200714  0.00801169 0.00223862\n",
      " 0.00737082 0.00465819 0.00805373 0.00754518 0.00383062 0.00529052\n",
      " 0.003997   0.00218135 0.00768732 0.00030199 0.00220106 0.00591585\n",
      " 0.00409284 0.00203479 0.00126104 0.00956318 0.00047326 0.00326336\n",
      " 0.01215674 0.0006615  0.00717667 0.00291489 0.00160158 0.00428103\n",
      " 0.00138048 0.00420444]\n",
      "The mean score is 0.004181736937981709\n",
      "The std score is 0.0036773513439293084\n"
     ]
    }
   ],
   "source": [
    "knn_mse_score = cross_val_score(model3, test_x, test_y, scoring=\"neg_mean_squared_error\", cv=50)\n",
    "knn_rmse_score = np.sqrt(-knn_mse_score)\n",
    "printScore(knn_rmse_score)"
   ]
  },
  {
   "cell_type": "markdown",
   "id": "d691f369-5768-4dc2-a0ee-24172d664e66",
   "metadata": {},
   "source": [
    "### Test Decision Tree Regressor"
   ]
  },
  {
   "cell_type": "code",
   "execution_count": 68,
   "id": "8acd6a1c-8c51-4112-9cf2-9b9c3ef54766",
   "metadata": {},
   "outputs": [
    {
     "name": "stdout",
     "output_type": "stream",
     "text": [
      "The scores are: [0.00425953 0.00889386 0.00182068 0.00255599 0.00173491 0.00296519\n",
      " 0.00208095 0.0013149  0.00585003 0.00237386 0.00821066 0.00140415\n",
      " 0.00149208 0.00246505 0.00346919 0.00445352 0.00028804 0.00131417\n",
      " 0.00575302 0.00323569 0.0063834  0.01983133 0.00718668 0.00437652\n",
      " 0.00555957 0.00258944 0.00228552 0.00228769 0.00463418 0.00585958\n",
      " 0.00230547 0.01906973 0.00332055 0.00109129 0.00286503 0.00147819\n",
      " 0.00452638 0.00287745 0.00073808 0.00438515 0.00534243 0.0055416\n",
      " 0.00303509 0.00104274 0.0052759  0.00343772 0.00224399 0.00332339\n",
      " 0.0012666  0.00171163]\n",
      "The mean score is 0.004036156088469154\n",
      "The std score is 0.0036983029848238185\n"
     ]
    }
   ],
   "source": [
    "dt_mse_score = cross_val_score(model2, test_x, test_y, scoring=\"neg_mean_squared_error\", cv=50)\n",
    "dt_rmse_score = np.sqrt(-dt_mse_score)\n",
    "printScore(dt_rmse_score)"
   ]
  },
  {
   "cell_type": "markdown",
   "id": "eb869fa6-985a-4926-ae68-5bec0d6d631d",
   "metadata": {},
   "source": [
    "### Test Random Forest Regressor"
   ]
  },
  {
   "cell_type": "code",
   "execution_count": 69,
   "id": "82d5abe3-9f39-4936-b21e-59c983b27a73",
   "metadata": {},
   "outputs": [
    {
     "name": "stdout",
     "output_type": "stream",
     "text": [
      "The scores are: [0.00295032 0.00831194 0.00168572 0.0018592  0.00237251 0.00052575\n",
      " 0.00088788 0.00118535 0.00402831 0.00122779 0.00508103 0.00167607\n",
      " 0.00180272 0.00211017 0.00415049 0.00381376 0.00032092 0.00064995\n",
      " 0.00388528 0.00353454 0.00275734 0.01945501 0.00529451 0.00270033\n",
      " 0.00384669 0.00129649 0.00249385 0.00093437 0.00252983 0.00428808\n",
      " 0.00334326 0.01059966 0.0036123  0.0007729  0.00202958 0.00099596\n",
      " 0.00419684 0.00254765 0.00044912 0.00313134 0.00294744 0.00460313\n",
      " 0.00605711 0.00211918 0.00392623 0.00219182 0.00141606 0.00255001\n",
      " 0.00096662 0.00078404]\n",
      "The mean score is 0.0031379296261149297\n",
      "The std score is 0.0030375008152205116\n"
     ]
    }
   ],
   "source": [
    "rfr_mse_score = cross_val_score(model4, test_x, test_y, scoring=\"neg_mean_squared_error\", cv=50)\n",
    "rfr_rmse_score = np.sqrt(-rfr_mse_score)\n",
    "printScore(rfr_rmse_score)"
   ]
  },
  {
   "cell_type": "markdown",
   "id": "927dac25-22ed-4258-9681-8620b0a88a3d",
   "metadata": {},
   "source": [
    "## Compare RFR and LR"
   ]
  },
  {
   "cell_type": "code",
   "execution_count": 70,
   "id": "43d51be1-8898-4e17-84a2-28f942c187f5",
   "metadata": {},
   "outputs": [
    {
     "name": "stdout",
     "output_type": "stream",
     "text": [
      "[1.00211522 1.00002487 1.01473226 1.00045636 1.00013907 1.0019248\n",
      " 0.99897136 1.02304118 0.99986946 0.99994025 1.00015613 1.0007951\n",
      " 1.00011676 0.9974372  1.01507422 1.00221445 0.99980521 1.00187821\n",
      " 1.00390007 1.01429273 1.00051516 1.00209072 1.01515403 1.00049933\n",
      " 1.00055923 1.00520758 1.00537292 1.01170145 1.00015307 1.00008559\n",
      " 1.0000495  0.99969391 1.00017007 0.99954427 0.97600336 1.01559411\n",
      " 1.01059386 1.00205199 1.00841073 0.99961119 1.00215665 1.01620379\n",
      " 1.01895682 1.00965743 1.02055542 1.0058663  1.01420728 1.00005587\n",
      " 1.00087523 1.00420928 1.0007275  1.00911114 1.00168569 1.00145831\n",
      " 1.00116624 1.00018813 1.00097716 1.00009842 1.00914596 1.00361483\n",
      " 1.00030665 1.00000586 1.00467505 1.01325023 1.00080674 1.00007407\n",
      " 1.0001654  1.00627372 1.00052982 0.99957633 1.00008631 0.99941613\n",
      " 0.99958268 1.00170291 0.99991918 1.00250715 1.00009009 1.00917799\n",
      " 0.99984074 1.0004965  1.00166859 1.01770975 1.00006591 1.01296384\n",
      " 1.00022817 0.98435359 0.99891687 1.00003977 1.00012576 1.01815316\n",
      " 1.02471273 1.00000115 1.00227828 1.00655727 1.00221383 1.01581558\n",
      " 1.00121807 1.01003875 1.00058792 1.02153529 1.00062972 1.00327243\n",
      " 1.01535716 1.00054491 1.00178008 1.0031548  1.00223682 0.99984915\n",
      " 1.01420766 0.99770813 0.99988388 1.00118062 1.00111433 1.01493912\n",
      " 1.01051164 0.9988783  1.00200356 1.00182176 0.99981111 1.00100287\n",
      " 1.00241543 1.01478681 1.00003731 1.00107425 1.01088344 0.99991934\n",
      " 1.00305182 1.00671372 1.01542745 1.00135306 1.02476726 1.00994276\n",
      " 1.00021346 1.00089683 1.00007588 1.00035207 1.00024573 1.0001605\n",
      " 1.00286068 1.01443788 1.00364754 1.00358595 1.00227525 1.00063036\n",
      " 1.01486341 1.00049566 1.00193219 1.00150651 1.00312924 1.01189974\n",
      " 1.00113427 0.99995151 1.00077239 0.99979139 1.00006852 1.00154815\n",
      " 1.00124135 1.0289454  1.00147502 0.99993745 1.0039934  1.00088678\n",
      " 1.00023293 1.00546822 0.99895377 1.00016306 1.00033646 1.00023919\n",
      " 0.98722933 0.99904899 0.99968169 1.00182367 0.99820111 0.99990241\n",
      " 0.99735256 1.0007108  1.0139924  1.01445076 1.01110285 1.00022224\n",
      " 1.01491699 1.01543222 1.00515203 1.00149901 1.00019306 1.00229931\n",
      " 1.00041436 1.00489551 1.0046846  1.00213365 1.00240301 1.00569674\n",
      " 1.00540688 1.00075704 1.00249282 1.0011243  1.00022279 1.00083044\n",
      " 1.00091049 1.00302296 1.0009746 ]\n"
     ]
    }
   ],
   "source": [
    "rfr_predictions = model4.predict(test_x)\n",
    "print(rfr_predictions)"
   ]
  },
  {
   "cell_type": "code",
   "execution_count": 71,
   "id": "6036f509-0809-4862-a63a-7a0e979e6c45",
   "metadata": {},
   "outputs": [
    {
     "name": "stdout",
     "output_type": "stream",
     "text": [
      "[1.00080028 0.99995282 1.01399953 1.0006481  1.00034069 1.00384911\n",
      " 0.99855894 1.02748479 1.0003813  1.00040657 1.00046619 0.99801435\n",
      " 1.00000933 0.99826262 1.01304923 1.00304474 0.99998435 1.00308515\n",
      " 1.00373814 1.01313507 1.00089408 1.0026231  1.01402408 1.00094158\n",
      " 1.00096759 1.00526542 1.00729257 1.01038572 1.00007335 1.00063225\n",
      " 1.00003307 1.00010089 1.00006107 1.00027961 0.97661737 1.01362005\n",
      " 1.00953808 1.00169979 1.00851018 1.00054793 1.00966507 1.01416657\n",
      " 1.03578849 1.01035223 1.01983925 1.00549734 1.01318177 1.00029272\n",
      " 1.00093165 1.00407031 1.00107605 1.00826548 1.00114898 0.99898156\n",
      " 1.00152248 1.00102185 1.00154292 0.99996996 1.00971732 1.00317823\n",
      " 1.00052757 1.00034594 1.00510034 1.01188492 1.00048988 1.00048755\n",
      " 1.00012572 1.00711277 1.00049877 1.00057181 1.00011326 0.99868684\n",
      " 0.9996468  1.00138855 1.0002265  1.00272872 1.00033594 1.0077681\n",
      " 0.99986031 1.00151326 1.00066983 1.01652015 1.00014467 1.01353388\n",
      " 1.00030111 1.0058914  0.99711003 1.00041001 1.00035213 1.01579821\n",
      " 1.02387107 1.00011033 1.00278157 1.00708845 1.00102005 1.01410108\n",
      " 0.9999493  1.00820867 1.00112273 1.02432138 1.00232791 1.00636842\n",
      " 1.01361043 1.0006687  1.00420377 1.00340585 1.00215848 0.99997443\n",
      " 1.01298808 0.99906599 1.00067032 1.00035053 1.0011928  1.01459238\n",
      " 1.0102539  0.99908797 1.00215928 1.00088406 1.00035845 1.0013183\n",
      " 1.00274033 1.01237468 1.00043768 1.00174177 1.00922178 1.00066391\n",
      " 1.00391537 1.00784999 0.99770762 1.00211265 1.01863199 1.01310036\n",
      " 1.00058827 1.00077531 1.00077968 1.00071461 1.0002338  1.00001351\n",
      " 1.00232225 1.01371332 1.01127137 1.00197119 1.00415059 1.00087885\n",
      " 1.0128468  1.0012082  0.99633188 1.00184886 1.00416854 1.01136519\n",
      " 1.00160986 1.00039149 1.00087346 1.00033194 1.00006779 0.99813002\n",
      " 1.0015225  1.03065302 1.00158629 1.00503355 1.00614642 1.00045957\n",
      " 1.00080938 1.00468391 0.99875196 1.00057328 1.00075392 1.00015535\n",
      " 0.98764618 0.99810831 1.00488254 1.01349172 0.99250566 0.9998628\n",
      " 0.9957303  1.00037022 1.01306821 1.0119159  1.01234064 1.00043234\n",
      " 1.01426442 1.01403366 1.00508897 1.00473735 1.0002293  1.00235846\n",
      " 1.00080998 1.00202759 1.00409384 1.0030391  1.00288672 1.00446617\n",
      " 1.00396907 1.00062858 1.00215672 1.00331027 1.00008903 1.0004775\n",
      " 1.00218754 1.00950997 1.00170196]\n"
     ]
    }
   ],
   "source": [
    "lin_predictions = model1.predict(test_x)\n",
    "print(lin_predictions)"
   ]
  },
  {
   "cell_type": "code",
   "execution_count": 72,
   "id": "a1470481-c1de-49a8-b689-7502750f9991",
   "metadata": {},
   "outputs": [
    {
     "data": {
      "text/plain": [
       "array([0.9993714 , 1.0000259 , 1.01104835, 1.00004061, 1.00046587,\n",
       "       0.99972326, 1.00014509, 1.03741   , 0.99995623, 0.9997332 ,\n",
       "       0.99997186, 1.00166365, 0.99992701, 0.99728069, 1.01438867,\n",
       "       1.00305986, 1.00008406, 1.00023814, 1.00046338, 1.01591286,\n",
       "       1.00080262, 1.00131672, 1.01542688, 1.00022884, 1.00047237,\n",
       "       1.00655948, 1.0037295 , 1.01323923, 1.00000646, 1.00000792,\n",
       "       1.00003381, 1.00279087, 1.0001626 , 0.9988299 , 1.0021035 ,\n",
       "       1.01559385, 1.00872942, 1.00314442, 1.00570907, 1.00082213,\n",
       "       1.01096   , 1.01328881, 1.0268    , 1.00701382, 1.01825284,\n",
       "       1.00796884, 1.01130804, 1.0003495 , 0.9982704 , 1.00207234,\n",
       "       1.00064284, 1.00797   , 1.00032616, 1.00210003, 1.00274942,\n",
       "       1.00026868, 0.99999969, 1.00006491, 1.00009452, 1.00237077,\n",
       "       0.99988004, 1.00007413, 1.01174396, 1.01548308, 1.00080149,\n",
       "       1.00019227, 1.00000157, 1.00549194, 0.9998109 , 1.00061932,\n",
       "       1.00009685, 0.99920701, 0.99937218, 1.00457263, 0.99781732,\n",
       "       1.00028435, 1.00022437, 1.0110096 , 1.00007611, 1.00110999,\n",
       "       0.9953954 , 1.01954163, 0.9976553 , 1.01162751, 1.00056645,\n",
       "       1.04055329, 0.99592724, 1.00005416, 1.00032487, 1.02061   ,\n",
       "       1.03186939, 0.99988131, 1.00286057, 1.00504784, 1.00399317,\n",
       "       1.01708989, 1.0016705 , 1.00568435, 1.00049664, 1.02143   ,\n",
       "       0.99933487, 1.00693851, 1.01394159, 1.00137471, 1.00138556,\n",
       "       1.00532001, 1.00158137, 1.0005575 , 1.01684496, 0.99893057,\n",
       "       1.00176014, 1.00087862, 1.00128882, 1.01117204, 1.00985375,\n",
       "       0.99806622, 1.00058253, 0.99842331, 1.00005   , 1.00223668,\n",
       "       1.01049621, 1.01912055, 0.99980675, 1.00004472, 1.01282   ,\n",
       "       1.00243352, 1.00295733, 1.00532115, 1.00252151, 1.00574604,\n",
       "       1.02509575, 1.01196103, 0.99995733, 1.00083002, 0.99981582,\n",
       "       1.00035967, 1.00003484, 1.00008869, 0.99929587, 1.01367279,\n",
       "       1.00497466, 1.00199838, 1.00284072, 1.00047384, 1.01619162,\n",
       "       0.99805084, 0.99598226, 1.00203536, 1.00894547, 1.00718064,\n",
       "       0.99883462, 0.99996038, 1.00096177, 1.00059054, 0.99998687,\n",
       "       1.0009142 , 1.00118157, 1.02837411, 1.00292273, 0.99883452,\n",
       "       1.00270224, 1.00018434, 1.00004266, 1.00115604, 1.00101118,\n",
       "       1.00008227, 1.00055057, 1.0000899 , 0.99102114, 0.997669  ,\n",
       "       1.00237064, 1.00410152, 1.00081406, 0.99988628, 1.00244432,\n",
       "       1.00113594, 1.01254693, 1.01164   , 1.01490891, 1.00049674,\n",
       "       1.01950412, 1.01357705, 1.00793462, 1.0018218 , 0.99984083,\n",
       "       1.00274553, 1.000751  , 1.00215144, 1.00187384, 1.00382386,\n",
       "       0.99754264, 1.0077235 , 1.0043    , 1.00103346, 1.00303058,\n",
       "       0.99994075, 0.99998396, 1.00027398, 1.00116146, 1.01277121,\n",
       "       1.00230795])"
      ]
     },
     "execution_count": 72,
     "metadata": {},
     "output_type": "execute_result"
    }
   ],
   "source": [
    "test_y.to_numpy()"
   ]
  },
  {
   "cell_type": "code",
   "execution_count": 73,
   "id": "add6ca7a-a623-4c52-8348-6a2604cb31ae",
   "metadata": {},
   "outputs": [],
   "source": [
    "rmse_1 = np.sqrt(mean_squared_error(y_true=test_y, y_pred=lin_predictions))\n",
    "rmse_2 = np.sqrt(mean_squared_error(y_true=test_y, y_pred=rfr_predictions))"
   ]
  },
  {
   "cell_type": "code",
   "execution_count": 74,
   "id": "1d72efa5-1c4d-494e-88b6-4f7ee0a81296",
   "metadata": {},
   "outputs": [
    {
     "data": {
      "text/plain": [
       "0.004106810474060234"
      ]
     },
     "execution_count": 74,
     "metadata": {},
     "output_type": "execute_result"
    }
   ],
   "source": [
    "rmse_1"
   ]
  },
  {
   "cell_type": "code",
   "execution_count": 75,
   "id": "45ce85b0-aa4b-44fd-844e-4b9fa5c1087b",
   "metadata": {},
   "outputs": [
    {
     "data": {
      "text/plain": [
       "0.0051795140482886835"
      ]
     },
     "execution_count": 75,
     "metadata": {},
     "output_type": "execute_result"
    }
   ],
   "source": [
    "rmse_2"
   ]
  },
  {
   "cell_type": "markdown",
   "id": "f47f7f5b-08f2-45cc-b60a-7c865756de87",
   "metadata": {},
   "source": [
    "# Linear Regression is the best\n",
    "## Pickling Linear Regression model in model.pkl"
   ]
  },
  {
   "cell_type": "code",
   "execution_count": 76,
   "id": "e26f33e7-a541-4f85-a24e-a463ed02cd0d",
   "metadata": {},
   "outputs": [],
   "source": [
    "import pickle as pkl"
   ]
  },
  {
   "cell_type": "code",
   "execution_count": 77,
   "id": "c0de96a1-593d-4b3a-ab89-7a0da4132809",
   "metadata": {},
   "outputs": [],
   "source": [
    "with open('model.pkl', 'wb') as op:\n",
    "    pkl.dump(file=op, obj=model1)"
   ]
  }
 ],
 "metadata": {
  "kernelspec": {
   "display_name": "Python 3 (ipykernel)",
   "language": "python",
   "name": "python3"
  },
  "language_info": {
   "codemirror_mode": {
    "name": "ipython",
    "version": 3
   },
   "file_extension": ".py",
   "mimetype": "text/x-python",
   "name": "python",
   "nbconvert_exporter": "python",
   "pygments_lexer": "ipython3",
   "version": "3.11.5"
  }
 },
 "nbformat": 4,
 "nbformat_minor": 5
}
